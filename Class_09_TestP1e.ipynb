{
 "cells": [
  {
   "cell_type": "markdown",
   "metadata": {},
   "source": [
    "### Universidade Federal do Rio Grande do Sul (UFRGS)   \n",
    "Programa de Pós-Graduação em Engenharia Civil (PPGEC)   \n",
    "\n",
    "# PEC00025: Introduction to Vibration Theory\n",
    "\n",
    "\n",
    "## Test P1 (2024/1): time and frequency domain analysis of sdof systems\n",
    "\n",
    "---\n"
   ]
  },
  {
   "cell_type": "code",
   "execution_count": 2,
   "metadata": {},
   "outputs": [],
   "source": [
    "# Importing Python modules required for this notebook\n",
    "# (this cell must be executed with \"shift+enter\" before any other Python cell)\n",
    "\n",
    "import numpy as np\n",
    "import matplotlib.pyplot as plt\n",
    "\n",
    "from MRPy import *\n"
   ]
  },
  {
   "cell_type": "markdown",
   "metadata": {},
   "source": [
    "## Questão 1\n",
    "\n",
    "Uma torre esbelta tem massa equivalente $m = 1.0$ton, rigidez $k = 3EI/L^3$, e amortecimento $\\zeta = 1$% (razão do crítico). A altura da massa (e do topo) é $L = 10$m, enquanto a  rigidez à flexão, $EI$, é tal que a frequência natural de vibração livre resulta ser $f_{\\rm n} = 0.5$Hz. Sobre a massa atua uma força impulsiva devida ao impacto (perfeitamente elástico) de um projétil de massa $m_{\\rm p} = 50$kg que se desloca a uma velocidade $v_{\\rm p} = 100$km/h. Pergunta-se:\n",
    "\n",
    "1. Qual o máximo deslocamento do topo da torre após o impacto?\n",
    "2. Qual a máxima aceleração do topo da torre após o impacto?\n",
    "3. Qual a amplitude do deslocamento após transcorrerem 5 segundos?\n",
    "4. Quais as máximas reações de apoio $M_{\\rm A}$ (momento) e $H_{\\rm A}$ (força horizontal)? \n",
    "\n",
    "<img src=\"resources/tests/PEC00025A_241_P1_Q1.JPG\" alt=\"Question 1\" width=\"320px\"/>\n",
    "\n",
    "\n",
    "### Cálculo das propriedades do sistema\n",
    "\n",
    "Nos cálculos abaixo se considera que o projétil rebota após o impacto, sem perdas e,\n",
    "portanto, terá velocidade $v_{\\rm p}$ com o sentido contrário. Isso faz com que a \n",
    "quantidade de movimento antes do impacto seja:\n",
    "\n",
    "$$ Q_0 = m_{\\rm p} v_{\\rm p} $$\n",
    "\n",
    "e após o impacto seja:\n",
    "\n",
    "$$ Q = M V_0 - m_{\\rm p} v_{\\rm p} $$\n",
    "\n",
    "Considerando a conservação da quantidade de movimento $Q = Q_0$ têm-se:\n",
    "\n",
    "$$ V_0 = 2 m_{\\rm p} v_{\\rm p} / M $$\n",
    "\n",
    "onde $V_0$ é a velocidade inicial (pós impacto) da massa no topo da torre.\n"
   ]
  },
  {
   "cell_type": "code",
   "execution_count": 17,
   "metadata": {},
   "outputs": [
    {
     "name": "stdout",
     "output_type": "stream",
     "text": [
      "Rigidez da torre ...................  k =    9870 N/m\n",
      "Rigidez à flexão da torre .......... EI = 3289868 Nm2\n",
      "Velocidade inicial do projétil ..... vp =    27.8 m/s\n",
      "\n",
      "Máxima duração para ser Dirac ...... Td =     0.5 s\n",
      "Máximo comprimento do projétil ..... Lp =     6.9 m\n",
      "\n",
      "Velocidade da torre após impacto ... V0 =    2.78 m/s\n"
     ]
    }
   ],
   "source": [
    "L  =  10.               # altura da torre (m)\n",
    "M  =  1000.             # massa no topo da torre (kg)\n",
    "zt =  0.01              # amortecimento razão do crítico\n",
    "fn =  0.5               # frequência fundamental da torre (Hz)\n",
    "wn =  2*fn*np.pi        # frequência fundamental em rad/s\n",
    "\n",
    "mp =  50.               # massa do projétil\n",
    "vp =  100/3.6           # velocidade do projétil (m/s)\n",
    "Qp =  mp*vp             # quantidade de movimento inicial\n",
    "\n",
    "g  =  9.81              # gravidade (m/s2)\n",
    "\n",
    "k  =  M*wn*wn           # coeficiente de rigidez\n",
    "EI =  k*(L**3)/3        # rigidez à flexão da torre\n",
    "\n",
    "V0 =  2*Qp/M            # o projétil REBOTA com velocidade vp!!!\n",
    "Td =  1/fn/4.           # máxima duração do contato para ser Dirac\n",
    "Lp =  vp*Td/2           # mínimo comprimento do projétil (onda vai e volta)\n",
    "\n",
    "print('Rigidez da torre ...................  k = {0:7.0f} N/m'.format(k))\n",
    "print('Rigidez à flexão da torre .......... EI = {0:7.0f} Nm2'.format(EI))\n",
    "print('Velocidade inicial do projétil ..... vp = {0:7.1f} m/s\\n'.format(vp))\n",
    "print('Máxima duração para ser Dirac ...... Td = {0:7.1f} s'.format(Td))\n",
    "print('Máximo comprimento do projétil ..... Lp = {0:7.1f} m\\n'.format(Lp))\n",
    "\n",
    "print('Velocidade da torre após impacto ... V0 = {0:7.2f} m/s'.format(v0))\n"
   ]
  },
  {
   "cell_type": "markdown",
   "metadata": {},
   "source": [
    "### 1) Deslocamento máximo\n",
    "\n",
    "Considerando portanto que o projétil tenha comprimento menor que 6.9m, o que garante\n",
    "um tempo de contato inferior a 0.5s (1/4 do período de vibração da torre), podemos\n",
    "considerar que o impulso é de curtíssima duração. Consequentemente, a resposta\n",
    "dinâmica será a resposta à velocidade inicial $V_0 = 2.78$m/s calculada.\n"
   ]
  },
  {
   "cell_type": "code",
   "execution_count": 29,
   "metadata": {},
   "outputs": [
    {
     "name": "stdout",
     "output_type": "stream",
     "text": [
      "Deslocamento devido à velocidade inicial... u_max = 0.884 m\n"
     ]
    }
   ],
   "source": [
    "wD   = np.sqrt(1 - zt*zt)*wn\n",
    "umax = V0/wD\n",
    "\n",
    "print('Deslocamento devido à velocidade inicial... u_max = {0:5.3f} m'.format(umax))\n"
   ]
  },
  {
   "cell_type": "markdown",
   "metadata": {},
   "source": [
    "O cálculo abaixo, obviamente não exigido na prova, apresenta o resultado correto para essa questão utilizado\n",
    "uma integração por Duhamel.\n"
   ]
  },
  {
   "cell_type": "code",
   "execution_count": 32,
   "metadata": {},
   "outputs": [
    {
     "name": "stdout",
     "output_type": "stream",
     "text": [
      "Deslocamento máximo por simulação ......... u_pk  = 0.870 m\n"
     ]
    },
    {
     "data": {
      "image/png": "[encoded data removed]",
      "text/plain": [
       "<Figure size 720x288 with 1 Axes>"
      ]
     },
     "metadata": {
      "needs_background": "light"
     },
     "output_type": "display_data"
    }
   ],
   "source": [
    "F   = MRPy.zeros(NX=1, N=1024, fs=128.)\n",
    "u   = F.sdof_Duhamel(fn, zt, V0=V0)\n",
    "upk = np.max(np.abs(u[0]))\n",
    "\n",
    "print('Deslocamento máximo por simulação ......... u_pk  = {0:5.3f} m'.format(upk))\n",
    "\n",
    "u.plot_time(fig=1, figsize=[10,4], axis_t=[0, u.Td, -1, 1]);\n"
   ]
  },
  {
   "cell_type": "markdown",
   "metadata": {},
   "source": [
    "### 2) Máxima aceleração da torre após impacto\n",
    "\n",
    "A resposta devida à velocidade inicial reverte o sinal e é maior que a resposta devida à força impulsiva,\n",
    "que não reverte o sinal. Portanto a resposta total terá reversão de sinal, como de fato pode ser observado\n",
    "no gráfico da solução por Duhamel.\n",
    "\n",
    "Pode-se então supor que o contato só será desfeito no momento em que o deslocamento atinge o pico com o\n",
    "sinal revertido, o que ocorre mais ou menos aos 3/4 do período natural de vibração livre do sistema\n",
    "pessoa+trampolim.\n"
   ]
  },
  {
   "cell_type": "code",
   "execution_count": 5,
   "metadata": {},
   "outputs": [
    {
     "name": "stdout",
     "output_type": "stream",
     "text": [
      "A perda de contato ocorrerá aos 0.532 s\n",
      "Pela solução por Duhamel seria aos 0.571 s\n"
     ]
    }
   ],
   "source": [
    "Tn  = 1/fn               # período de vibração (pessoa + trampolim)\n",
    "tk1 = 3*Tn/4             # perda de contato estimada\n",
    "\n",
    "t   = u.t_axis()         # perda de contato pela solução por Duhamel\n",
    "kt  = np.argmax(u[0])\n",
    "tk2 = t[kt]\n",
    "\n",
    "print('A perda de contato ocorrerá aos {0:5.3f} s'.format(tk1))\n",
    "print('Pela solução por Duhamel seria aos {0:5.3f} s'.format(tk2))\n"
   ]
  },
  {
   "cell_type": "markdown",
   "metadata": {},
   "source": [
    "Portanto o critério usado para a estimativa é razoável.\n"
   ]
  },
  {
   "cell_type": "code",
   "execution_count": 6,
   "metadata": {},
   "outputs": [
    {
     "data": {
      "image/png": "[encoded data removed]",
      "text/plain": [
       "<Figure size 720x288 with 1 Axes>"
      ]
     },
     "metadata": {
      "needs_background": "light"
     },
     "output_type": "display_data"
    }
   ],
   "source": [
    "band = [2/u.Td, u.fs/32]\n",
    "a    =  u.differentiate(band=band).differentiate(band=band)\n",
    "\n",
    "a.plot_time(fig=2, figsize=[10,4], axis_t=[0, a.Td/2, -40, 40]);\n"
   ]
  },
  {
   "cell_type": "markdown",
   "metadata": {},
   "source": [
    "### 3) Trampolim sem a pessoa\n",
    "\n",
    "A partir do momento em que o trampolim está oscilando sem a pessoa sua frequência natural aumenta, \n",
    "porque embora a rigidez permaneça a mesma a massa aderida diminui.\n"
   ]
  },
  {
   "cell_type": "code",
   "execution_count": 7,
   "metadata": {},
   "outputs": [
    {
     "name": "stdout",
     "output_type": "stream",
     "text": [
      "Período de vibração pessoa+trampolin:      0.71 s\n",
      "Período de vibração só trampolim:          0.32 s\n"
     ]
    }
   ],
   "source": [
    "wnt = np.sqrt(k/mt)\n",
    "fnt = wnt/2/np.pi\n",
    "Tnt = 1/fnt\n",
    "\n",
    "print('Período de vibração pessoa+trampolin:     {0:5.2f} s'.format(Tn))\n",
    "print('Período de vibração só trampolim:         {0:5.2f} s'.format(Tnt))\n"
   ]
  },
  {
   "cell_type": "markdown",
   "metadata": {},
   "source": [
    "Portanto o período reduz-se para aproximadamente a metade. \n",
    "\n",
    "Considerando que houve uma restituição total da energia cinética, a velocidade da pessoa ao se soltar do trampolim é a mesma do instante de contato inicial. \n",
    "\n",
    "O tempo para retornar ao contato é dado pela equação da posição de um corpo acelerado:\n",
    "\n",
    "$$ u = u_0 + v_0 t + \\frac{a t^2}{2} $$\n",
    "\n",
    "com $u = u_0$ (retorno à mesma posição inicial) e $a = g$. Isolando-se $t$ tem-se:\n",
    "\n",
    "$$ t = \\frac{2v_0}{g}$$\n",
    "\n",
    "onde $v_0$ é a velocidade da pessoa no momento do contato inicial (3m/s).\n",
    "Dividindo-se o tempo transcorrido pelo período do trampolim vazio tem-se então:\n"
   ]
  },
  {
   "cell_type": "code",
   "execution_count": 8,
   "metadata": {},
   "outputs": [
    {
     "name": "stdout",
     "output_type": "stream",
     "text": [
      "Tempo até novo contato:                    0.61 s\n",
      "Número aprox. de oscilações do trampolim:       2\n"
     ]
    }
   ],
   "source": [
    "T1 = 2*vp/g\n",
    "N  = T1/Tnt\n",
    "\n",
    "print('Tempo até novo contato:                   {0:5.2f} s'.format(T1))\n",
    "print('Número aprox. de oscilações do trampolim: {0:7.0f}'.format(np.round(N)))\n"
   ]
  },
  {
   "cell_type": "markdown",
   "metadata": {},
   "source": [
    "### 4) Máximas reações de apoio\n",
    "\n",
    "As máximas reações podem ser estimadas a partir da força estática equivalente. \n",
    "Para isso, vamos usar o deslocamento máximo (superestimado) do item (1).\n"
   ]
  },
  {
   "cell_type": "code",
   "execution_count": 9,
   "metadata": {},
   "outputs": [
    {
     "name": "stdout",
     "output_type": "stream",
     "text": [
      "Momento reativo no engaste:  7391 Nm\n",
      "Reação vertical no engaste:  3696 N\n"
     ]
    }
   ],
   "source": [
    "Feq = umax*k           # força estática equivalente\n",
    "\n",
    "MA  = L*Feq            # momento reativo\n",
    "VA  = Feq              # reação vertical\n",
    "\n",
    "print('Momento reativo no engaste: {0:5.0f} Nm'.format(MA))\n",
    "print('Reação vertical no engaste: {0:5.0f} N'.format(VA))\n"
   ]
  },
  {
   "cell_type": "markdown",
   "metadata": {},
   "source": [
    "Contudo, o valor correto calculado a partir da solução por Duhamel (não exigida na prova) seria:"
   ]
  },
  {
   "cell_type": "code",
   "execution_count": 10,
   "metadata": {},
   "outputs": [
    {
     "name": "stdout",
     "output_type": "stream",
     "text": [
      "Momento reativo no engaste:  5949 Nm\n",
      "Reação vertical no engaste:  2974 N\n"
     ]
    }
   ],
   "source": [
    "Feq = u_pk*k           # força estática equivalente\n",
    "\n",
    "MA  = L*Feq            # momento reativo\n",
    "VA  = Feq              # reação vertical\n",
    "\n",
    "print('Momento reativo no engaste: {0:5.0f} Nm'.format(MA))\n",
    "print('Reação vertical no engaste: {0:5.0f} N'.format(VA))\n"
   ]
  },
  {
   "cell_type": "markdown",
   "metadata": {},
   "source": [
    "## Questão 2\n",
    "\n",
    "A mesma torre da questão anterior é submetida à força do vento atuando sobre a massa, descrita na forma de uma densidade espectral dada abaixo. \n",
    "\n",
    "5. Qual o valor r.m.s. do deslocamento do topo da torre? \n",
    "6. Qual o valor de pico da aceleração no topo da torre?\n",
    "7. Quais as máximas reações de apoio MA (momento) e HA (força horizontal)?\n",
    "8. Após 64 segundos, por quanto tempo o momento MA superou metade do valor máximo?\n",
    "\n",
    "<img src=\"resources/tests/PEC00025A_241_P1_Q2.jpg\" alt=\"Question 2\" width=\"640px\"/>  \n",
    "\n",
    "\n",
    "### Cálculo das propriedades do sistema\n"
   ]
  },
  {
   "cell_type": "code",
   "execution_count": 11,
   "metadata": {
    "scrolled": false
   },
   "outputs": [],
   "source": [
    "h  =  0.1            # amplitude do deslocamento na base\n",
    "l0 =  2.             # distância entre rodas (m)\n",
    "m  =  200.           # massa oscilante total (kg)\n",
    "zt =  0.01           # amortecimento razão do crítico\n",
    "g  =  9.81           # gravidade (m/s2)\n"
   ]
  },
  {
   "cell_type": "markdown",
   "metadata": {},
   "source": [
    "### 2.1 Velocidade máxima\n",
    "\n",
    "Com a mola considerada rígida, a massa acompanha o relevo do terreno. Isso implica em um deslocamento da base\n",
    "igual ao deslocamento da massa com uma frequência igual a $f_0 = v_{\\rm max}/\\lambda_0$.\n",
    "O deslocamento vertical é uma função harmônica:\n",
    "\n",
    "$$ u(t) = h \\sin (2\\pi f_0 t) = h \\sin \\left( \\frac{2\\pi v_{\\rm max} t}{\\lambda_0} \\right) $$\n",
    "\n",
    "\n",
    "O critério para que o carrinho não descole do terreno é a aceleração vertical não superar a gravidade.\n",
    "A aceleração é a segunda derivada do deslocamento.\n",
    "\n",
    "$$ a = \\frac{d^2 u}{dt^2}  = \n",
    "- h \\left(\\frac{2\\pi v_{\\rm max}}{\\lambda_0} \\right)^2 \\sin \\left( \\frac{2\\pi v_{\\rm max} t}{\\lambda_0} \\right)  > -g $$\n",
    "\n",
    "Portanto o limite de velocidade é dado por:\n",
    "\n",
    "$$ h \\left(\\frac{2\\pi v_{\\rm max}}{\\lambda_0} \\right)^2 = g $$\n",
    "\n",
    "Que resulta em:\n",
    "\n",
    "$$ v_{\\rm max} = \\frac{\\lambda_0}{2\\pi} \\sqrt{\\frac{g}{h}}$$\n"
   ]
  },
  {
   "cell_type": "code",
   "execution_count": 12,
   "metadata": {},
   "outputs": [
    {
     "name": "stdout",
     "output_type": "stream",
     "text": [
      "Máxima velocidade para manter contato:     3.15 m/s\n"
     ]
    }
   ],
   "source": [
    "vmax = (l0/2/np.pi)*np.sqrt(g/h)\n",
    "\n",
    "print('Máxima velocidade para manter contato:    {0:5.2f} m/s'.format(vmax))\n"
   ]
  },
  {
   "cell_type": "markdown",
   "metadata": {},
   "source": [
    "### 2.2 Amplitude de vibração para velocidade $v_{\\rm max}/2$\n",
    "\n",
    "A aceleração na base é dada pela mesma expressão anterior, mas \n",
    "com a velocidade agora reduzida à metade:\n",
    "\n",
    "$$ a = - h \\left(\\frac{\\pi v_{\\rm max}}{\\lambda_0} \\right)^2 \\sin \\left( \\frac{\\pi v_{\\rm max} t}{\\lambda_0} \\right)$$\n",
    "\n",
    "onde a frequência de excitação é dada por:\n",
    "\n",
    "$$ f_0 = \\frac{\\pi v_{\\rm max}}{2\\pi \\cdot \\lambda_0} = \\frac{v_{\\rm max}}{2\\lambda_0} $$\n",
    "\n",
    "Calculando amplitude e frequência da excitação:\n"
   ]
  },
  {
   "cell_type": "code",
   "execution_count": 13,
   "metadata": {},
   "outputs": [
    {
     "name": "stdout",
     "output_type": "stream",
     "text": [
      "Amplitude da aceleração:                   2.45 m/s2\n",
      "Frequência da excitação harmônica:         0.79 Hz\n"
     ]
    }
   ],
   "source": [
    "aG = h*((np.pi*vmax/l0)**2)\n",
    "f0 = vmax/(2*l0)\n",
    "\n",
    "print('Amplitude da aceleração:                  {0:5.2f} m/s2'.format(aG))\n",
    "print('Frequência da excitação harmônica:        {0:5.2f} Hz'.format(f0))\n"
   ]
  },
  {
   "cell_type": "markdown",
   "metadata": {},
   "source": [
    "Para que a amplitude total seja no máximo $2h$, a amplitude do sistema deve ser\n",
    "no máximo $h$, visto que já ocorre uma amplitude $h$ inerente ao próprio relevo.\n",
    "\n",
    "No cálculo a seguir, vamos variando a frequência $f_{\\rm n}$ até ter a amplitude \n",
    "de deslocamento desejada:\n"
   ]
  },
  {
   "cell_type": "code",
   "execution_count": 19,
   "metadata": {},
   "outputs": [
    {
     "name": "stdout",
     "output_type": "stream",
     "text": [
      "Frequência natural de vibração livre:     1.114 Hz\n",
      "Resposta em deslocamento estático:        0.050 m\n",
      "AMPLITUDE DA RESPOSTA EM DESLOCAMENTO:    0.100 m\n",
      "Fator de amplificação dinâmica:           2.000\n",
      "Rigidez calibrada:                        9.807 kN/m\n"
     ]
    }
   ],
   "source": [
    "fn =   1.414*f0              # valor obtido por tentativa e erro\n",
    "k  = ((2*np.pi*fn)**2)*m\n",
    "ue =   aG*m/k\n",
    "\n",
    "bt =   f0/fn\n",
    "A  =   np.sqrt(1/((1 - bt**2)**2 + (2*zt*bt)**2))\n",
    "ud =   A*ue\n",
    "\n",
    "print('Frequência natural de vibração livre:     {0:5.3f} Hz'.format(fn))\n",
    "print('Resposta em deslocamento estático:        {0:5.3f} m'.format(ue))\n",
    "print('AMPLITUDE DA RESPOSTA EM DESLOCAMENTO:    {0:5.3f} m'.format(ud))\n",
    "print('Fator de amplificação dinâmica:           {0:5.3f}'.format(A))\n",
    "print('Rigidez calibrada:                        {0:5.3f} kN/m'.format(k/1000))\n"
   ]
  },
  {
   "cell_type": "markdown",
   "metadata": {},
   "source": [
    "### 2.3 Máxima reação vertical\n",
    "\n",
    "A máxima amplitude de deslocamento é portanto $h$, que multiplicada pela rigidez\n",
    "dá a força da mola sobre a massa. Essa força deve ser ainda ser acrescida do peso\n",
    "da massa (quando a roda passa pelo ponto mais baixo) e dividida entre os\n",
    "dois eixos. Portanto:\n"
   ]
  },
  {
   "cell_type": "code",
   "execution_count": 20,
   "metadata": {},
   "outputs": [
    {
     "name": "stdout",
     "output_type": "stream",
     "text": [
      "Máxima reação em cada eixo:               149.98 kgf\n"
     ]
    }
   ],
   "source": [
    "R = (h*k + m*g)/2/g\n",
    "\n",
    "print('Máxima reação em cada eixo:               {0:5.2f} kgf'.format(R))\n"
   ]
  },
  {
   "cell_type": "code",
   "execution_count": null,
   "metadata": {},
   "outputs": [],
   "source": []
  }
 ],
 "metadata": {
  "kernelspec": {
   "display_name": "Python 3 (ipykernel)",
   "language": "python",
   "name": "python3"
  },
  "language_info": {
   "codemirror_mode": {
    "name": "ipython",
    "version": 3
   },
   "file_extension": ".py",
   "mimetype": "text/x-python",
   "name": "python",
   "nbconvert_exporter": "python",
   "pygments_lexer": "ipython3",
   "version": "3.8.3"
  }
 },
 "nbformat": 4,
 "nbformat_minor": 2
}
