{
 "cells": [
  {
   "cell_type": "markdown",
   "metadata": {},
   "source": [
    "### Universidade Federal do Rio Grande do Sul (UFRGS)   \n",
    "Programa de Pós-Graduação em Engenharia Civil (PPGEC)   \n",
    "\n",
    "# PEC00025: Introduction to Vibration Theory\n",
    "\n",
    "\n",
    "## Test P1 (2024/1): time and frequency domain analysis of sdof systems\n",
    "\n",
    "---\n"
   ]
  },
  {
   "cell_type": "code",
   "execution_count": 1,
   "metadata": {},
   "outputs": [],
   "source": [
    "# Importing Python modules required for this notebook\n",
    "# (this cell must be executed with \"shift+enter\" before any other Python cell)\n",
    "\n",
    "import numpy as np\n",
    "import matplotlib.pyplot as plt\n",
    "\n",
    "from MRPy import *\n"
   ]
  },
  {
   "cell_type": "markdown",
   "metadata": {},
   "source": [
    "## Questão 1\n",
    "\n",
    "Uma torre esbelta tem massa equivalente $m = 1.0$ton, rigidez $k = 3EI/L^3$, e amortecimento $\\zeta = 1$% (razão do crítico). A altura da massa (e do topo) é $L = 10$m, enquanto a  rigidez à flexão, $EI$, é tal que a frequência natural de vibração livre resulta ser $f_{\\rm n} = 0.5$Hz. Sobre a massa atua uma força impulsiva devida ao impacto (perfeitamente elástico) de um projétil de massa $m_{\\rm p} = 50$kg que se desloca a uma velocidade $v_{\\rm p} = 100$km/h. Pergunta-se:\n",
    "\n",
    "1. Qual o máximo deslocamento do topo da torre após o impacto?\n",
    "2. Qual a máxima aceleração do topo da torre após o impacto?\n",
    "3. Qual a amplitude do deslocamento após transcorrerem 5 segundos?\n",
    "4. Quais as máximas reações de apoio $M_{\\rm A}$ (momento) e $H_{\\rm A}$ (força horizontal)? \n",
    "\n",
    "<img src=\"resources/tests/PEC00025A_241_P1_Q1.JPG\" alt=\"Question 1\" width=\"320px\"/>\n",
    "\n",
    "\n",
    "### Cálculo das propriedades do sistema\n",
    "\n",
    "Nos cálculos abaixo se considera que o projétil rebota após o impacto, sem perdas e,\n",
    "portanto, terá velocidade $v_{\\rm p}$ com o sentido contrário. Isso faz com que a \n",
    "quantidade de movimento antes do impacto seja:\n",
    "\n",
    "$$ Q_0 = m_{\\rm p} v_{\\rm p} $$\n",
    "\n",
    "e após o impacto seja:\n",
    "\n",
    "$$ Q = M V_0 - m_{\\rm p} v_{\\rm p} $$\n",
    "\n",
    "Considerando a conservação da quantidade de movimento $Q = Q_0$ têm-se:\n",
    "\n",
    "$$ V_0 = 2 m_{\\rm p} v_{\\rm p} / M $$\n",
    "\n",
    "onde $V_0$ é a velocidade inicial (pós impacto) da massa no topo da torre.\n"
   ]
  },
  {
   "cell_type": "code",
   "execution_count": 2,
   "metadata": {},
   "outputs": [
    {
     "name": "stdout",
     "output_type": "stream",
     "text": [
      "Rigidez da torre ...................  k =    9870 N/m\n",
      "Rigidez à flexão da torre .......... EI = 3289868 Nm2\n",
      "Velocidade inicial do projétil ..... vp =    27.8 m/s\n",
      "\n",
      "Máxima duração para ser Dirac ...... Td =     0.5 s\n",
      "Máximo comprimento do projétil ..... Lp =     6.9 m\n",
      "\n",
      "Velocidade da torre após impacto ... V0 =    2.78 m/s\n"
     ]
    }
   ],
   "source": [
    "L  =  10.               # altura da torre (m)\n",
    "M  =  1000.             # massa no topo da torre (kg)\n",
    "zt =  0.01              # amortecimento razão do crítico\n",
    "fn =  0.5               # frequência fundamental da torre (Hz)\n",
    "wn =  2*fn*np.pi        # frequência fundamental em rad/s\n",
    "\n",
    "mp =  50.               # massa do projétil\n",
    "vp =  100/3.6           # velocidade do projétil (m/s)\n",
    "Qp =  mp*vp             # quantidade de movimento inicial\n",
    "\n",
    "g  =  9.81              # gravidade (m/s2)\n",
    "\n",
    "k  =  M*wn*wn           # coeficiente de rigidez\n",
    "EI =  k*(L**3)/3        # rigidez à flexão da torre\n",
    "\n",
    "V0 =  2*Qp/M            # o projétil REBOTA com velocidade vp!!!\n",
    "Td =  1/fn/4.           # máxima duração do contato para ser Dirac\n",
    "Lp =  vp*Td/2           # mínimo comprimento do projétil (onda vai e volta)\n",
    "\n",
    "print('Rigidez da torre ...................  k = {0:7.0f} N/m'.format(k))\n",
    "print('Rigidez à flexão da torre .......... EI = {0:7.0f} Nm2'.format(EI))\n",
    "print('Velocidade inicial do projétil ..... vp = {0:7.1f} m/s\\n'.format(vp))\n",
    "print('Máxima duração para ser Dirac ...... Td = {0:7.1f} s'.format(Td))\n",
    "print('Máximo comprimento do projétil ..... Lp = {0:7.1f} m\\n'.format(Lp))\n",
    "\n",
    "print('Velocidade da torre após impacto ... V0 = {0:7.2f} m/s'.format(V0))\n"
   ]
  },
  {
   "cell_type": "markdown",
   "metadata": {},
   "source": [
    "### 1) Deslocamento máximo\n",
    "\n",
    "Considerando portanto que o projétil tenha comprimento menor que 6.9m, o que garante\n",
    "um tempo de contato inferior a 0.5s (1/4 do período de vibração da torre), podemos\n",
    "considerar que o impulso é de curtíssima duração. Consequentemente, a resposta\n",
    "dinâmica será a resposta à velocidade inicial $V_0 = 2.78$m/s calculada.\n"
   ]
  },
  {
   "cell_type": "code",
   "execution_count": 3,
   "metadata": {},
   "outputs": [
    {
     "name": "stdout",
     "output_type": "stream",
     "text": [
      "Deslocamento devido à velocidade inicial... u_max = 0.884 m\n"
     ]
    }
   ],
   "source": [
    "wD   = wn*np.sqrt(1 - zt*zt)\n",
    "umax = V0/wD\n",
    "\n",
    "print('Deslocamento devido à velocidade inicial... u_max = {0:5.3f} m'.format(umax))\n"
   ]
  },
  {
   "cell_type": "markdown",
   "metadata": {},
   "source": [
    "O cálculo abaixo, obviamente não exigido na prova, apresenta o resultado correto para essa questão utilizado\n",
    "uma integração por Duhamel.\n"
   ]
  },
  {
   "cell_type": "code",
   "execution_count": 4,
   "metadata": {},
   "outputs": [
    {
     "name": "stdout",
     "output_type": "stream",
     "text": [
      "Deslocamento máximo por simulação ......... u_pk  = 0.864 m\n"
     ]
    },
    {
     "data": {
      "image/png": "[encoded data removed]",
      "text/plain": [
       "<Figure size 720x288 with 1 Axes>"
      ]
     },
     "metadata": {
      "needs_background": "light"
     },
     "output_type": "display_data"
    }
   ],
   "source": [
    "F   = MRPy.zeros(NX=1, N=8192, fs=512.)\n",
    "u   = F.sdof_Duhamel(fn, zt, U0=0., V0=V0).zero_mean()\n",
    "upk = np.max(u[0])\n",
    "\n",
    "print('Deslocamento máximo por simulação ......... u_pk  = {0:5.3f} m'.format(upk))\n",
    "\n",
    "u.plot_time(fig=1, figsize=[10,4], axis_t=[0, u.Td/2, -1, 1]);\n"
   ]
  },
  {
   "cell_type": "markdown",
   "metadata": {},
   "source": [
    "### 2) Máxima aceleração da torre após impacto\n",
    "\n",
    "Estritamente falando a aceleração da torre é infinita, pois ela passa de\n",
    "velocidade zero a uma velocidade imposta $V_0$. Por outro lado, vamos também\n",
    "calcular a aceleração após o início da vibração livre, ou seja, decorrido\n",
    "um tempo igual a 1/8 do período de modo a se observar o primeiro pico.\n",
    "\n",
    "Podemos considerar que a resposta é não-amortecida nos primeiros ciclos. Assim\n",
    "a aceleração, sendo a segunda derivada do deslocamento, pode ser aproximada como:\n",
    "\n",
    "$$ a_{\\rm max} = w_{\\rm n}^2 \\; u_{\\rm max} $$\n"
   ]
  },
  {
   "cell_type": "code",
   "execution_count": 5,
   "metadata": {},
   "outputs": [
    {
     "name": "stdout",
     "output_type": "stream",
     "text": [
      "Aceleração máxima por derivação ........... a_max =  8.73 m/s2\n"
     ]
    }
   ],
   "source": [
    "amax = wn*wn*umax\n",
    "\n",
    "print('Aceleração máxima por derivação ........... a_max = {0:5.2f} m/s2'.format(amax))\n"
   ]
  },
  {
   "cell_type": "markdown",
   "metadata": {},
   "source": [
    "Isso também pode ser calculado derivando-se a resposta simulada:\n"
   ]
  },
  {
   "cell_type": "code",
   "execution_count": 6,
   "metadata": {
    "scrolled": true
   },
   "outputs": [
    {
     "name": "stdout",
     "output_type": "stream",
     "text": [
      "Aceleração máxima por simulação ............ a_pk =  8.30 m/s2\n"
     ]
    },
    {
     "data": {
      "image/png": "[encoded data removed]",
      "text/plain": [
       "<Figure size 720x288 with 1 Axes>"
      ]
     },
     "metadata": {
      "needs_background": "light"
     },
     "output_type": "display_data"
    }
   ],
   "source": [
    "band = [1./u.Td, 2*fn]\n",
    "a    =  u.differentiate(band=band).differentiate(band=band)\n",
    "apk  =  np.max(a[0][a.t_axis() > 1.])\n",
    "\n",
    "print('Aceleração máxima por simulação ............ a_pk = {0:5.2f} m/s2'.format(apk))\n",
    "\n",
    "a.plot_time(fig=2, figsize=[10,4], axis_t=[0, a.Td/4, -15, 15]);\n"
   ]
  },
  {
   "cell_type": "markdown",
   "metadata": {},
   "source": [
    "Percebe-se, portanto, um erro associado à integração numérica logo no início da série temporal.\n"
   ]
  },
  {
   "cell_type": "markdown",
   "metadata": {},
   "source": [
    "### 3) Amplitude do deslocamento após 5s\n",
    "\n",
    "Como o período é de 2s, após 5s terão transcorridos 2 períodos e meio. Neste exato instante \n",
    "a amplitude do deslocamento é zero. \n",
    "\n",
    "Por outro lado, também podemos entender essa amplitude como o multiplicador (envelope exponencial)\n",
    "da solução teórica para a vibração livre, que decai exponencialmente conforme a razão de\n",
    "amortecimento.\n"
   ]
  },
  {
   "cell_type": "code",
   "execution_count": 7,
   "metadata": {},
   "outputs": [
    {
     "name": "stdout",
     "output_type": "stream",
     "text": [
      "Deslocamento devido à velocidade inicial... u_max = 0.884 m\n",
      "Amplitude do envelope após 5s ............ u_damp = 0.756 m\n"
     ]
    }
   ],
   "source": [
    "udamp = umax*np.exp(-zt*wn*5.0)     # decaimento do envelope após 5s.\n",
    "\n",
    "print('Deslocamento devido à velocidade inicial... u_max = {0:5.3f} m'.format(umax))\n",
    "print('Amplitude do envelope após 5s ............ u_damp = {0:5.3f} m'.format(udamp))\n"
   ]
  },
  {
   "cell_type": "markdown",
   "metadata": {},
   "source": [
    "Portanto a amplitude do deslocamento decresceu 12.8cm.\n"
   ]
  },
  {
   "cell_type": "markdown",
   "metadata": {},
   "source": [
    "### 4) Máximas reações de apoio $M_{\\rm A}$ e $H_{\\rm A}$\n",
    "\n",
    "As máximas reações podem ser estimadas a partir da força estática equivalente. \n",
    "Para isso, vamos usar o deslocamento máximo da questão (1).\n"
   ]
  },
  {
   "cell_type": "code",
   "execution_count": 8,
   "metadata": {},
   "outputs": [
    {
     "name": "stdout",
     "output_type": "stream",
     "text": [
      "Máximo momento reativo no engaste ........... M_A =  87.3 kNm\n",
      "Máxima reação horizontal no engaste ......... H_A =   8.7 kN\n"
     ]
    }
   ],
   "source": [
    "Feq = umax*k           # força estática equivalente\n",
    "\n",
    "MA  = L*Feq            # momento reativo\n",
    "HA  = Feq              # reação vertical\n",
    "\n",
    "print('Máximo momento reativo no engaste ........... M_A = {0:5.1f} kNm'.format(MA/1000))\n",
    "print('Máxima reação horizontal no engaste ......... H_A = {0:5.1f} kN'.format(HA/1000))\n"
   ]
  },
  {
   "cell_type": "markdown",
   "metadata": {},
   "source": [
    "## Questão 2\n",
    "\n",
    "A mesma torre da questão anterior é submetida à força do vento atuando sobre a massa, descrita na forma de uma densidade espectral dada abaixo. \n",
    "\n",
    "5. Qual o valor r.m.s. do deslocamento do topo da torre? \n",
    "6. Qual o valor de pico da aceleração no topo da torre?\n",
    "7. Quais as máximas reações de apoio MA (momento) e HA (força horizontal)?\n",
    "8. Após 64 segundos, por quanto tempo o momento MA superou metade do valor máximo?\n",
    "\n",
    "<img src=\"resources/tests/PEC00025A_241_P1_Q2.jpg\" alt=\"Question 2\" width=\"640px\"/>  \n",
    "\n",
    "\n",
    "### Cálculo do espectro do deslocamento\n",
    "\n",
    "Lembrando que na análise no domínio da frequência o espectro do deslocamento\n",
    "é calculado com a função de admitância mecânica:\n",
    "\n",
    "$$ S_U(f) = \\lvert H(f) \\rvert^2 \\; S_F(f) $$\n",
    "\n",
    "onde:\n",
    "\n",
    "$$ \\lvert H(f) \\rvert^2 = \\frac{1}{k^2} \\; \\left[ \\frac{1}{(1 - \\beta^2)^2 + (2\\zeta\\beta)^2} \\right]$$\n",
    "\n",
    "com $\\beta = \\frac{f}{f_{\\rm n}}$.\n",
    "\n",
    "Como o espectro da força é do tipo banda limitada em 1Hz, o espectro do deslocamento não terá\n",
    "energia a partir deste limite. \n"
   ]
  },
  {
   "cell_type": "code",
   "execution_count": 9,
   "metadata": {},
   "outputs": [
    {
     "data": {
      "image/png": "[encoded data removed]",
      "text/plain": [
       "<Figure size 720x288 with 1 Axes>"
      ]
     },
     "metadata": {
      "needs_background": "light"
     },
     "output_type": "display_data"
    }
   ],
   "source": [
    "f   = np.linspace(0, 2., 1024)\n",
    "SF  = np.zeros_like(f)\n",
    "SF[f <= 1.] = 250000.\n",
    "\n",
    "H2  = lambda fi: 1/( (1 - (fi/fn)**2)**2 + (2*zt*(fi/fn))**2 )/(k**2)\n",
    "SU  = H2(f)*SF\n",
    "\n",
    "plt.figure(3, figsize=(10,4), clear=True)\n",
    "plt.semilogy(f, SU);\n",
    "plt.grid(True)\n",
    "plt.axis([0, 2, 1e-6, 1e+2])\n",
    "plt.xlabel('Frequência (Hz)')\n",
    "plt.ylabel('Espectro do deslocamento [m²/Hz]');\n"
   ]
  },
  {
   "cell_type": "markdown",
   "metadata": {},
   "source": [
    "### 5) Valor r.m.s. do deslocamento no topo\n",
    "\n",
    "O variância do deslocamento é a integral da respectiva densidade espectral.\n",
    "O valor r.m.s. (no caso é o mesmo que o desvio padrão, já que a média é zero) é\n",
    "a raiz quadrada da variância.\n",
    "\n",
    "$$ u_{\\rm rms} = \\frac{f_{\\rm n} S_F}{k^2} \\int_0^{f_{\\rm max}}{\\left[ \\frac{1}{(1 - \\beta^2)^2 + (2\\zeta\\beta)^2} \\right] \\; d\\beta} $$\n",
    "\n",
    "onde \n",
    "\n",
    "$$d\\!f = f_{\\rm n} d\\beta $$\n",
    "\n",
    "e $S_F$ é constante de $0$ a $f_{\\rm max}$.\n"
   ]
  },
  {
   "cell_type": "code",
   "execution_count": 10,
   "metadata": {},
   "outputs": [
    {
     "name": "stdout",
     "output_type": "stream",
     "text": [
      "Valor r.m.s. do deslocamento no topo ...... u_rms = 0.317 m\n"
     ]
    }
   ],
   "source": [
    "urms = np.sqrt(np.trapz(SU, f))\n",
    "\n",
    "print('Valor r.m.s. do deslocamento no topo ...... u_rms = {0:5.3f} m'.format(urms))\n"
   ]
  },
  {
   "cell_type": "markdown",
   "metadata": {},
   "source": [
    "### 6) Valor de pico da aceleração no topo\n",
    "\n",
    "Conforme a transforma de Fourier, sendo a aceleração a dupla derivada do deslocamento,\n",
    "resulta que o espectro da aceleração é calculado com a relação:\n",
    "\n",
    "$$ S_A(f) = \\omega^4 S_U(f) $$ \n"
   ]
  },
  {
   "cell_type": "code",
   "execution_count": 11,
   "metadata": {},
   "outputs": [
    {
     "name": "stdout",
     "output_type": "stream",
     "text": [
      "Valor r.m.s. da aceleração no topo ........ a_rms = 3.15 m/s2\n"
     ]
    }
   ],
   "source": [
    "arms = np.sqrt(np.trapz(((2*np.pi*f)**4)*SU, f))\n",
    "\n",
    "print('Valor r.m.s. da aceleração no topo ........ a_rms = {0:4.2f} m/s2'.format(arms))\n"
   ]
  },
  {
   "cell_type": "markdown",
   "metadata": {},
   "source": [
    "O fator de pico pode ser calculado utilizando-se a fórmula de Davenport \n",
    "com a simplificação de que a taxa de upcrossing é aproximadamente igual à frequência fundamental (processo banda estreita), $\\nu_0 \\approx f_{\\rm n}$. \n",
    "\n",
    "$$g = \\sqrt{2 \\ln (\\nu_0 T)} + \\frac{0.5772}{\\sqrt{2 \\ln (\\nu_0 T)}}$$\n",
    "\n",
    "onde T é o tempo de observação, que será tomado como 64s. \n",
    "\n",
    "O valor de pico da aceleração é dado por:\n",
    "\n",
    "$$ a_{\\rm peak} = g \\; a_{\\rm rms}$$\n"
   ]
  },
  {
   "cell_type": "code",
   "execution_count": 12,
   "metadata": {},
   "outputs": [
    {
     "name": "stdout",
     "output_type": "stream",
     "text": [
      "Fator de pico para 64s ........................ g = 2.85\n",
      "Valor de pico em 64s da aceleração ......... a_pk = 8.98 m/s2\n"
     ]
    }
   ],
   "source": [
    "T   = 64.\n",
    "nu0 = fn\n",
    "\n",
    "lnu = np.sqrt(2*np.log(T*nu0))\n",
    "gp  = lnu + 0.5772/lnu\n",
    "\n",
    "apk = gp*arms\n",
    "\n",
    "print('Fator de pico para 64s ........................ g = {0:4.2f}'.format(gp))\n",
    "print('Valor de pico em 64s da aceleração ......... a_pk = {0:4.2f} m/s2'.format(apk))\n"
   ]
  },
  {
   "cell_type": "markdown",
   "metadata": {},
   "source": [
    "### 7) Máximas reações de apoio $M_{\\rm A}$ e $H_{\\rm A}$\n",
    "\n",
    "Para calcular estas reações é necessário primeiro calcular o deslocamento de pico.\n",
    "Para isso, podemos usar o mesmo fator de pico da questão anterior, multiplicando\n",
    "o valor r.m.s. do deslocamento no topo.\n"
   ]
  },
  {
   "cell_type": "code",
   "execution_count": 13,
   "metadata": {},
   "outputs": [
    {
     "name": "stdout",
     "output_type": "stream",
     "text": [
      "Valor de pico do deslocamento no topo ...... u_pk = 0.91 m\n",
      "Máximo momento reativo no engaste ........... M_A = 89.3 kNm\n",
      "Máxima reação horizontal no engaste ......... H_A =  8.9 kN\n"
     ]
    }
   ],
   "source": [
    "upk = gp*urms          # deslocamento de pico\n",
    "Feq = upk*k            # força estática equivalente\n",
    "\n",
    "MA  = L*Feq            # momento reativo\n",
    "HA  = Feq              # reação vertical\n",
    "\n",
    "print('Valor de pico do deslocamento no topo ...... u_pk = {0:4.2f} m'.format(upk))\n",
    "print('Máximo momento reativo no engaste ........... M_A = {0:4.1f} kNm'.format(MA/1000))\n",
    "print('Máxima reação horizontal no engaste ......... H_A = {0:4.1f} kN'.format(HA/1000))\n"
   ]
  },
  {
   "cell_type": "markdown",
   "metadata": {},
   "source": [
    "### 8) Número de upcrossings do nível médio em 64s\n"
   ]
  },
  {
   "cell_type": "code",
   "execution_count": null,
   "metadata": {},
   "outputs": [],
   "source": []
  }
 ],
 "metadata": {
  "kernelspec": {
   "display_name": "Python 3 (ipykernel)",
   "language": "python",
   "name": "python3"
  },
  "language_info": {
   "codemirror_mode": {
    "name": "ipython",
    "version": 3
   },
   "file_extension": ".py",
   "mimetype": "text/x-python",
   "name": "python",
   "nbconvert_exporter": "python",
   "pygments_lexer": "ipython3",
   "version": "3.8.3"
  }
 },
 "nbformat": 4,
 "nbformat_minor": 2
}
