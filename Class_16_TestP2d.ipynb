{
 "cells": [
  {
   "cell_type": "markdown",
   "metadata": {},
   "source": [
    "Universidade Federal do Rio Grande do Sul (UFRGS)   \n",
    "Programa de Pós-Graduação em Engenharia Civil (PPGEC)   \n",
    "\n",
    "# PEC00025: Introduction to Vibration Theory\n",
    "\n",
    "\n",
    "## Test P2 (2023/1): Discrete and continuous mdof systems\n",
    "\n",
    "---\n",
    "\n",
    "**NAME:** <br/>\n",
    "**CARD:** \n",
    "\n"
   ]
  },
  {
   "cell_type": "code",
   "execution_count": 2,
   "metadata": {},
   "outputs": [],
   "source": [
    "# Importing Python modules required for this notebook\n",
    "# (this cell must be executed with \"shift+enter\" before any other Python cell)\n",
    "\n",
    "import numpy as np\n",
    "import matplotlib.pyplot as plt\n",
    "import pickle as pk\n",
    "import scipy.linalg as sc\n",
    "\n",
    "from MRPy import MRPy\n"
   ]
  },
  {
   "cell_type": "code",
   "execution_count": 3,
   "metadata": {},
   "outputs": [],
   "source": [
    "def vibration_modes(K, M):\n",
    "\n",
    "# Uses scipy to solve the standard eigenvalue problem\n",
    "    w2, Phi = sc.eig(K, M)\n",
    "\n",
    "# Ensure ascending order of eigenvalues\n",
    "    iw  = w2.argsort()\n",
    "    w2  = w2[iw]\n",
    "    Phi = Phi[:,iw]\n",
    "\n",
    "# Eigenvalues to vibration frequencies\n",
    "    wk  = np.sqrt(np.real(w2)) \n",
    "    fk  = wk/2/np.pi\n",
    "\n",
    "    return fk, wk, Phi\n"
   ]
  },
  {
   "cell_type": "markdown",
   "metadata": {},
   "source": [
    "## Questão 1\n",
    "\n",
    "O sistema estrutural abaixo, com 2 g.d.l., representa um pórtico plano dotado de um amortecedor de massa sintonizada. Calcule os coeficientes de rigidez $k_1$ e $k_2$, e as respectivas formas modais, correspondentes às frequências naturais dadas. \n",
    "\n",
    "<img src=\"resources/tests/PEC00025A_231_P2_Q1.png\" alt=\"Question 1\" width=\"540px\"/>\n"
   ]
  },
  {
   "cell_type": "markdown",
   "metadata": {},
   "source": [
    "### Solução\n",
    "\n",
    "As matrizes de massa e de rigidez são:\n",
    "\n",
    "$$ \\mathbf{K} =  \\left[ \\begin{array}{cc}\n",
    "                  k_1 + k_2 &  -k_2  \\\\\n",
    "                      - k_2 &   k_2\n",
    "                 \\end{array} \\right] $$\n",
    "                 \n",
    "$$ \\mathbf{M} =  \\left[ \\begin{array}{cc}\n",
    "                        M_1 &    0   \\\\\n",
    "                         0  &   M_2\n",
    "                 \\end{array} \\right] $$\n",
    "\n",
    "Lembrando agora o problema de autovalores e autovetores:\n",
    "\n",
    "$$ \\mathbf{K} \\, \\vec{\\varphi}_i = \\omega_i^2 \\, \\mathbf{M} \\, \\vec{\\varphi}_i  $$ \n",
    "\n",
    "Considerando que as formas modais são normalizadas pela sua coordenada em $M_1$:\n",
    "\n",
    "$$\\left[ \\begin{array}{cc}\n",
    "   k_1 + k_2 &  -k_2  \\\\\n",
    "       - k_2 &   k_2\n",
    "  \\end{array} \\right] \\cdot\n",
    "  \\left[ \\begin{array}{c}\n",
    "       1      \\\\\n",
    "   \\varphi_i\n",
    "  \\end{array} \\right] = \\omega_i^2\n",
    "  \\left[ \\begin{array}{cc}\n",
    "   M_1 &    0   \\\\\n",
    "    0  &   M_2\n",
    "  \\end{array} \\right] \\cdot\n",
    "  \\left[ \\begin{array}{c}\n",
    "       1      \\\\\n",
    "   \\varphi_i\n",
    "  \\end{array} \\right] $$\n",
    "\n",
    "Isso resulta em um par de equações:\n",
    "\n",
    "$$\\begin{align*}\n",
    "(k_1 + k_2) - k_2 \\varphi_i &= \\omega_i^2 M_1 \\\\\n",
    "      -k_2  + k_2 \\varphi_i &= \\omega_i^2 M_2 \\varphi_i \n",
    "\\end{align*}$$\n",
    "\n",
    "para $i = 1$ e $i = 2$. Portanto, tem-se um sistema com 4 equações para 4 incógnitas\n",
    "($k_1$, $k_2$, $\\varphi_1$, $\\varphi_2$). A dificuldade está na não-linearidade. \n",
    "Somando-se as duas equações:\n",
    "\n",
    "$$ k_1 = \\omega_i^2 (M_1 + M_2\\varphi_i) $$\n",
    "\n",
    "Isolando-se $k_2$ na primeira equação:\n",
    "\n",
    "$$ k_2 = \\frac{\\omega_i^2 M_1 - k_1}{1 - \\varphi_i} $$\n",
    "\n",
    "Inicialmente vamos atribuir um valor inicial às rigidezes para se obter as formas modais.\n"
   ]
  },
  {
   "cell_type": "code",
   "execution_count": 33,
   "metadata": {},
   "outputs": [
    {
     "name": "stdout",
     "output_type": "stream",
     "text": [
      "[0.89442719 1.11803399] \n",
      " [1. 5.] [ 1. -4.]\n"
     ]
    }
   ],
   "source": [
    "M1   =  10000.\n",
    "M2   =  500.\n",
    "\n",
    "w1_2 = (2*np.pi*1.00)**2\n",
    "w2_2 = (2*np.pi*1.00)**2\n",
    "\n",
    "k1   =  w1_2*M1\n",
    "k2   =  w2_2*M2\n",
    "\n",
    "KG  = np.array([[ k1+k2,  -k2 ],[-k2,  k2]])\n",
    "MG  = np.array([[   M1,    0  ],[ 0,   M2]])\n",
    "\n",
    "fk, wk, Phi = vibration_modes(KG, MG)\n",
    "\n",
    "phi1 = Phi[:,0]/Phi[0,0]    # normalizando pela coordenada da massa M1\n",
    "phi2 = Phi[:,1]/Phi[0,1]\n",
    "\n",
    "print(fk, '\\n', phi1, phi2)\n"
   ]
  },
  {
   "cell_type": "markdown",
   "metadata": {},
   "source": [
    "Agora calculamos $k_1$ e $k_2$.\n"
   ]
  },
  {
   "cell_type": "code",
   "execution_count": 34,
   "metadata": {},
   "outputs": [
    {
     "name": "stdout",
     "output_type": "stream",
     "text": [
      "\t 394784.1760435744 19739.2088021787 \t 394784.1760435743 19739.208802178713\n"
     ]
    }
   ],
   "source": [
    "k1a1 =  (wk[0]**2)*(M1 + M2*phi1[1])\n",
    "k2a1 = ((wk[0]**2)*M1 - k1a1)/(1 - phi1[1])\n",
    "\n",
    "k1a2 =  (wk[1]**2)*(M1 + M2*phi2[1])\n",
    "k2a2 = ((wk[1]**2)*M1 - k1a2)/(1 - phi2[1])\n",
    "\n",
    "print('\\t', k1a1, k2a1, '\\t', k1a2, k2a2)\n"
   ]
  },
  {
   "cell_type": "markdown",
   "metadata": {},
   "source": [
    "## Questão 2\n",
    "\n",
    "Para a estrutura do problema anterior, calcule as máximas amplitudes de deslocamento de cada massa para uma carga dinâmica harmônica aplicada na massa $M_1$.\n",
    "\n",
    "$$F(t) = F_0 \\sin(2\\pi f_0 t)$$\n",
    "\n",
    "onde $F_0 = 1$kN e $f_0 = 1$Hz . \n"
   ]
  },
  {
   "cell_type": "markdown",
   "metadata": {},
   "source": [
    "### Solução\n",
    "\n"
   ]
  },
  {
   "cell_type": "code",
   "execution_count": null,
   "metadata": {},
   "outputs": [],
   "source": [
    "# Simulação das forças NODAIS\n",
    "\n",
    "N   = 8192\n",
    "Td  = 64\n",
    "F0  = 1000.\n",
    "f0  = 1.00\n",
    "\n",
    "F1  = MRPy(np.vstack((F1, np.zeros_like(F1))), fs=fs)\n",
    "\n",
    "f2  = F1.plot_time(fig=2, figsize=(10,4), axis_t=[0, F1.Td, -200, 800]);\n"
   ]
  },
  {
   "cell_type": "code",
   "execution_count": null,
   "metadata": {},
   "outputs": [],
   "source": [
    "# Cálculo das forças MODAIS\n",
    "\n",
    "zk1 = np.array([0.01, 0.01])\n",
    "Mk1 = np.diag(np.dot(Phi1.T, np.dot(M1, Phi1)))\n",
    "Kk1 = Mk1*(wk1**2)\n",
    "Fk1 = MRPy(np.dot(Phi1.T, F1), fs=F1.fs)\n",
    "\n",
    "f3  = Fk1.plot_time(fig=3, figsize=(10,5), axis_t=[0, F1.Td, -500, 500])\n",
    " "
   ]
  },
  {
   "cell_type": "code",
   "execution_count": null,
   "metadata": {},
   "outputs": [],
   "source": [
    "# Cálculo dos deslocamentos por superposição modal\n",
    "\n",
    "# Mass division must be a matrix operation...\n",
    "ak1 = MRPy(np.dot(np.diag(1/Mk1), Fk1), fs=Fk1.fs)\n",
    "\n",
    "# ... and now solving\n",
    "uk1 = ak1.sdof_Duhamel(fk1, zk1)             # modal space solution\n",
    "uN1 = MRPy(np.dot(Phi1, uk1), fs=uk1.fs)     # back to nodal solution\n",
    "\n",
    "# Resultado no domínio do tempo\n",
    "f4  = uN1.plot_time(4, figsize=(10,5), axis_t=[0, uN1.Td, -0.08, 0.08])\n",
    "\n",
    "# Resultado no domínio da frequência (para confirmar picos)\n",
    "f5  = uN1.plot_freq(5, figsize=(10,5), axis_f=[0, 10, 0, 0.001])\n",
    "\n",
    "up1 = uN1.max(axis=1)\n",
    "print('Deslocamento de pico da massa 1 é {0:6.4f}m'.format(up1[0]))\n",
    "print('Deslocamento de pico da massa 2 é {0:6.4f}m'.format(up1[1]))\n"
   ]
  },
  {
   "cell_type": "markdown",
   "metadata": {},
   "source": [
    "#### Método 2: por condições iniciais (carga como impulso de Dirac)\n"
   ]
  },
  {
   "cell_type": "code",
   "execution_count": null,
   "metadata": {},
   "outputs": [],
   "source": [
    "I0  = 2*F0*Td/3                         # impulse is ∫F(t)dt...\n",
    "v   = I0/m                              # ... which is converted to a initial velocity\n",
    "\n",
    "u0  = np.array([[0., 0.]]).T            # column vector with the initial displacements\n",
    "v0  = np.array([[v,  0.]]).T            # column vector with the initial velocities\n",
    "\n",
    "qMu = np.dot(np.dot(Phi1.T, M1), u0)\n",
    "qMv = np.dot(np.dot(Phi1.T, M1), v0)\n",
    "\n",
    "thk = np.zeros_like(Mk1)                # phase angles to be calculated\n",
    "u0k = np.zeros_like(Mk1)                # modal response amplitude to be calculated\n",
    "\n",
    "for k in range(2):\n",
    "\n",
    "# If there are initial displacements only\n",
    "#   thk[k] = -np.pi/2\n",
    "#   u0k[k] =  qMu[k]/Mk1[k]/np.sin(thk[k])\n",
    "\n",
    "# If there are initial velocities only\n",
    "    thk[k] =  np.arctan(wk1[k]*qMu[k]/qMv[k])\n",
    "    u0k[k] =  qMv[k]/Mk1[k]/np.cos(thk[k])/wk1[k]\n",
    "\n",
    "    print('Mode {0} with phase {1:5.2f}rad and amplitude {2:7.4f}m'.format(k+1, thk[k], u0k[k]))\n"
   ]
  },
  {
   "cell_type": "code",
   "execution_count": null,
   "metadata": {
    "scrolled": false
   },
   "outputs": [],
   "source": [
    "# Build the modal responses as harmonic functions with given properties\n",
    "uk  = MRPy.harmonic(NX=2, N=N, fs=F1.fs, X0=u0k, f0=fk1, phi=thk)\n",
    "\n",
    "# Calculate the NODAL responses superposing all modal responses\n",
    "uN = MRPy(np.dot(Phi1, uk), fs=F1.fs)\n",
    "\n",
    "f6  = uN.plot_time(6, figsize=(10,5), axis_t=[0, uN.Td, -0.08, 0.08])\n",
    "\n",
    "up  = uN.max(axis=1)\n",
    "print('Deslocamento de pico da massa 1 é {0:6.4f}m'.format(up[0]))\n",
    "print('Deslocamento de pico da massa 2 é {0:6.4f}m'.format(up[1]))\n"
   ]
  },
  {
   "cell_type": "markdown",
   "metadata": {},
   "source": [
    "...\n"
   ]
  },
  {
   "cell_type": "markdown",
   "metadata": {},
   "source": [
    "## Questão 3\n",
    "\n",
    "Para a viga com as restrições de apoio dadas, proponha uma forma aproximada para o primeiro modo de vibração, $\\varphi(x)$, e calcule a respectiva frequência natural em função do comprimento, $L$, da massa por unidade de comprimento, $\\mu$, e da rigidez à flexão, $EI$.\n",
    "\n",
    "<img src=\"resources/tests/PEC00025A_231_P2_Q3.png\" alt=\"Question 3\" width=\"480px\"/>  \n"
   ]
  },
  {
   "cell_type": "markdown",
   "metadata": {},
   "source": [
    "### Solução\n"
   ]
  },
  {
   "cell_type": "code",
   "execution_count": null,
   "metadata": {},
   "outputs": [],
   "source": [
    "uA =  0.590      # deslocamento da extremidade superior esquerda (m)\n",
    "uB =  uA         # deslocamento da extremidade superior direita (m)\n",
    "\n",
    "θA = -0.0894     # rotação da extremidade superior esquerda (rad)\n",
    "θB = -0.0887     # rotação da extremidade superior direita (rad)\n"
   ]
  },
  {
   "cell_type": "markdown",
   "metadata": {},
   "source": [
    "Estes valores podem ser interpolados utilizando as funções de interpolação dadas em aula, para termos uma expressão analítica para a linha elástica, com a qual pode-se calcular a energia de deformação e a energia cinética de referência.\n"
   ]
  },
  {
   "cell_type": "code",
   "execution_count": null,
   "metadata": {},
   "outputs": [],
   "source": [
    "# Dados do problema\n",
    "L  = 4.           # comprimento das barras (m)\n",
    "EI = 6500.        # rigidez à flexão (Nm2)\n",
    "μ  = 20.          # massa por unidade de comprimento (kg/m)\n",
    "F  = 1000.        # carga estática arbitrária aplicada (N)\n",
    "\n",
    "# Discretização do comprimento das barras\n",
    "x  = np.linspace(0, L, 200)\n",
    "dx = L/200\n",
    "\n",
    "# Lambda functions para interpolação dos deslocamentos\n",
    "phi = []\n",
    "phi.append(lambda xi:  1 - 3*xi*xi + 2*xi*xi*xi)\n",
    "phi.append(lambda xi:  L*(xi - 2*xi*xi + xi*xi*xi))\n",
    "phi.append(lambda xi:  3*xi*xi - 2*xi*xi*xi)\n",
    "phi.append(lambda xi:  L*(-xi*xi + xi*xi*xi ))\n",
    "\n",
    "# Lambda functions para interpolação das curvaturas\n",
    "phixx = []\n",
    "phixx.append(lambda xi: (-6 + 12*xi)/L/L) \n",
    "phixx.append(lambda xi: (-4 +  6*xi)/L  ) \n",
    "phixx.append(lambda xi: ( 6 - 12*xi)/L/L) \n",
    "phixx.append(lambda xi: (-2 +  6*xi)/L  ) \n"
   ]
  },
  {
   "cell_type": "code",
   "execution_count": null,
   "metadata": {},
   "outputs": [],
   "source": [
    "# Deslocamentos interpolados para as três barras\n",
    "\n",
    "# coluna da esquerda (x de baixo pra cima)\n",
    "w1 =  0*phi[0](x/L) +  0*phi[1](x/L) + uA*phi[2](x/L) - θA*phi[3](x/L)\n",
    "# viga superior (x da esquerda para direita)\n",
    "w2 =  0*phi[0](x/L) + θA*phi[1](x/L) +  0*phi[2](x/L) + θB*phi[3](x/L)\n",
    "# coluna direita (x de baixo pra cima)\n",
    "w3 =  0*phi[0](x/L) +  0*phi[1](x/L) + uB*phi[2](x/L) - θB*phi[3](x/L)\n",
    "\n",
    "f7 = plt.figure(7, figsize=(5,5))\n",
    "s  = 2   # escala das deformações\n",
    "\n",
    "plt.plot(s*w1, x, 'b', s*uA + x, L + s*w2, 'b', L + s*w3, x, 'b')\n",
    "plt.axis('equal')\n",
    "plt.grid(True)\n"
   ]
  },
  {
   "cell_type": "markdown",
   "metadata": {},
   "source": [
    "Esse conjunto de linhas deformadas será utilizado como forma modal para o cálculo da respectiva frequência natural\n",
    "de vibração livre através do quociente de Rayleigh.\n",
    "\n",
    "Observe que além dos deslocamentos transversais a cada barra, tem-se\n",
    "também o deslocamento da viga para a direita, que representa a maior\n",
    "parte da energia cinética do sistema!\n"
   ]
  },
  {
   "cell_type": "code",
   "execution_count": null,
   "metadata": {},
   "outputs": [],
   "source": [
    "# Energia cinética de referência\n",
    "\n",
    "# Deslocamento da viga para a direita!\n",
    "Tv = μ*L*(uA**2)/2     \n",
    "\n",
    "# Deslocamentos transversais das três barras\n",
    "Tr = Tv + μ*(np.trapz(w1**2 + w2**2 + w3**2, dx=dx))/2\n",
    "\n",
    "print('A energia cinética de referência é {0:4.2f} J/m.'.format(Tr))\n",
    "print('A massa da viga para a direita representa {0:3.1f}%.'.format(100*Tv/Tr))\n"
   ]
  },
  {
   "cell_type": "markdown",
   "metadata": {},
   "source": [
    "A energia potencial elástica pode ser calculada pelo trabalho da força externa:"
   ]
  },
  {
   "cell_type": "code",
   "execution_count": null,
   "metadata": {},
   "outputs": [],
   "source": [
    "# Trabalho da força externa\n",
    "V  = F*uA/2\n",
    "\n",
    "print('A energia potencial elástica é {0:4.1f} J.'.format(V))\n"
   ]
  },
  {
   "cell_type": "markdown",
   "metadata": {},
   "source": [
    "E finalmente o cálculo pelo quociente de Rayleigh:"
   ]
  },
  {
   "cell_type": "code",
   "execution_count": null,
   "metadata": {},
   "outputs": [],
   "source": [
    "fn = np.sqrt(V/Tr)/(2*np.pi)\n",
    "\n",
    "print('A frequência fundamental do pórtico é menor que {0:5.3f} Hz.'.format(fn))\n"
   ]
  },
  {
   "cell_type": "markdown",
   "metadata": {},
   "source": [
    "O cálculo da energia potencial elástica também pode ser feito pela curvatura:"
   ]
  },
  {
   "cell_type": "code",
   "execution_count": null,
   "metadata": {},
   "outputs": [],
   "source": [
    "# Curvaturas\n",
    "\n",
    "w1xx =  0*phixx[0](x/L) +  0*phixx[1](x/L) + uA*phixx[2](x/L) - θA*phixx[3](x/L)\n",
    "w2xx =  0*phixx[0](x/L) + θA*phixx[1](x/L) +  0*phixx[2](x/L) + θB*phixx[3](x/L)\n",
    "w3xx =  0*phixx[0](x/L) +  0*phixx[1](x/L) + uB*phixx[2](x/L) - θB*phixx[3](x/L)\n",
    "\n",
    "V    = EI*(np.trapz(w1xx**2 + w2xx**2 + w3xx**2, dx=dx))/2\n",
    "\n",
    "print('A energia potencial elástica é {0:4.1f} J.'.format(V))\n"
   ]
  },
  {
   "cell_type": "markdown",
   "metadata": {},
   "source": [
    "...\n"
   ]
  },
  {
   "cell_type": "markdown",
   "metadata": {},
   "source": [
    "## Questão 4\n",
    "\n",
    "Para a viga do problema anterior, com os valores dados abaixo, calcule a máxima amplitude de deslocamento para o peso próprio sendo aplicado de forma súbita a partir do tempo $t = 0$, ou seja, como uma função passo unitário, $h(t)$.\n",
    "\n",
    "<img src=\"resources/tests/PEC00025A_231_P2_Q4.png\" alt=\"Question 4\" width=\"540px\"/>  \n"
   ]
  },
  {
   "cell_type": "markdown",
   "metadata": {},
   "source": [
    "Estime o valor r.m.s. e o valor de pico do deslocamento horizontal $u(t)$ na\n",
    "extremidade esquerda da viga. Calcule a correspondente _força estática equivalente_.\n"
   ]
  },
  {
   "cell_type": "markdown",
   "metadata": {},
   "source": [
    "### Solução\n",
    "\n",
    "...\n"
   ]
  },
  {
   "cell_type": "code",
   "execution_count": null,
   "metadata": {},
   "outputs": [],
   "source": [
    "# Cálculo das propriedades modais\n",
    "\n",
    "Mk = 2*Tr\n",
    "wk = 2*np.pi*fn\n",
    "Kk = wk*wk*Mk\n",
    "zk = 0.01\n",
    "\n",
    "# Deslocamento estático a partir da rigidez modal\n",
    "Fk = 1000*uA      # força modal\n",
    "uk = Fk/Kk        # deslocamento estático modal\n",
    "ue = uA*uk        # deslocamento nodal\n",
    "\n",
    "print('Massa modal:           {0:5.1f} kg.'.format(Mk))\n",
    "print('Rigidez modal:         {0:4.1f} N/m.'.format(Kk))\n",
    "print('Deslocamento estático: {0:5.3f} m.'.format(ue))\n"
   ]
  },
  {
   "cell_type": "markdown",
   "metadata": {},
   "source": [
    "A força (definida pelo espectro) é aplicada na extremidade\n",
    "esquerda da viga, na horizontal, onde o deslocamento na forma\n",
    "modal tem amplitude $u_A$. Portanto o espectro da força modal é:\n"
   ]
  },
  {
   "cell_type": "code",
   "execution_count": null,
   "metadata": {},
   "outputs": [],
   "source": [
    "M  =  4097             # discretização do domínio da frequência\n",
    "σF =  50               # valor r.m.s. da força\n",
    "r  =  10.\n",
    "f  =  np.linspace(0, 2*r, M)\n",
    "fs =  2*f[-1]\n",
    "\n",
    "SF =  np.zeros_like(f)\n",
    "\n",
    "SF[f > 1/r] = (σF**2)/(2*np.log(r))*(1/f[f > 1/r])\n",
    "SF[f < 1/r] =  0.\n",
    "SF[f >  r ] =  0.\n",
    "\n",
    "sF2 =  np.trapz(SF, f)\n",
    "sF  =  np.sqrt(sF2)\n",
    "\n",
    "print('Amplitude r.m.s. pela integral do espectro é {0:4.1f} N.\\n'.format(sF))\n",
    "\n",
    "SFk = uA*uA*SF      # espectro da força modal Fk(t)\n",
    "\n",
    "plt.figure(3, figsize=(8,4), clear=True)\n",
    "plt.semilogy(f, SFk);\n",
    "plt.grid(True)\n",
    "plt.axis([0, 1.2*r, 1e01, 1e04])\n",
    "plt.xlabel('Frequência (Hz)')\n",
    "plt.ylabel('Espectro da força modal [N²/Hz]');\n"
   ]
  },
  {
   "cell_type": "markdown",
   "metadata": {},
   "source": [
    "Uma vez definido o espectro da força modal, podemos calcular a \n",
    "resposta modal no domínio da frequência.\n",
    "\n",
    "O espectro do deslocamento NODAL (extremidade esquerda da viga)\n",
    "é obtido multiplicando-se o espectro do deslocamento MODAL por \n",
    "$u_A^2$, da mesma forma como foi feito para a força modal.\n"
   ]
  },
  {
   "cell_type": "code",
   "execution_count": null,
   "metadata": {},
   "outputs": [],
   "source": [
    "Hf2 =  lambda fi: 1/( (1 - (fi/fn)**2)**2 + (2*zk*(fi/fn))**2 )/(Kk**2)\n",
    "\n",
    "SU  =  uA*uA*Hf2(f)*SFk\n",
    "\n",
    "plt.figure(4, figsize=(8,4), clear=True)\n",
    "plt.semilogy(f, SU);\n",
    "plt.grid(True)\n",
    "plt.axis([0, 1.2*r, 1e-10, 1e02])\n",
    "plt.xlabel('Frequência (Hz)')\n",
    "plt.ylabel('Espectro do deslocamento [m²/Hz]');\n"
   ]
  },
  {
   "cell_type": "markdown",
   "metadata": {},
   "source": [
    "Finalmente, faz-se a análise estatística da resposta em deslocamento\n",
    "a partir do espectro.\n"
   ]
  },
  {
   "cell_type": "code",
   "execution_count": null,
   "metadata": {},
   "outputs": [],
   "source": [
    "sU2 =  np.trapz(    SU, f)\n",
    "sU4 =  np.trapz(f*f*SU, f)\n",
    "\n",
    "nu  =  np.sqrt(sU4/sU2)\n",
    "lnu =  np.sqrt(2*np.log(60*nu))  # Tempo de excitação é 60 segundos!\n",
    "g   =  lnu + 0.5772/lnu\n",
    "\n",
    "sU  =  np.sqrt(sU2)\n",
    "up  =  g*sU\n",
    "\n",
    "print('Fator de pico da resposta em deslocamento é    {0:6.2f}.'.format(g))\n",
    "print('Amplitude r.m.s. da resposta em deslocamento é {0:4.0f}mm.'.format(1000*sU))\n",
    "print('Valor de pico da resposta em deslocamento é    {0:4.0f}mm.'.format(1000*up))\n"
   ]
  },
  {
   "cell_type": "markdown",
   "metadata": {},
   "source": [
    "Podemos usar a rigidez aparente da análise do Ftool para \n",
    "calcular a força estática equivalente. \n"
   ]
  },
  {
   "cell_type": "code",
   "execution_count": null,
   "metadata": {},
   "outputs": [],
   "source": [
    "k   = 1000/uA\n",
    "Feq = up*k\n",
    "\n",
    "print('Força estática equivalente é {0:4.1f}N.'.format(Feq))\n"
   ]
  },
  {
   "cell_type": "code",
   "execution_count": null,
   "metadata": {},
   "outputs": [],
   "source": []
  }
 ],
 "metadata": {
  "kernelspec": {
   "display_name": "Python 3 (ipykernel)",
   "language": "python",
   "name": "python3"
  },
  "language_info": {
   "codemirror_mode": {
    "name": "ipython",
    "version": 3
   },
   "file_extension": ".py",
   "mimetype": "text/x-python",
   "name": "python",
   "nbconvert_exporter": "python",
   "pygments_lexer": "ipython3",
   "version": "3.10.9"
  }
 },
 "nbformat": 4,
 "nbformat_minor": 2
}
