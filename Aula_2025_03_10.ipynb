{
 "cells": [
  {
   "cell_type": "markdown",
   "id": "dc9f66cf",
   "metadata": {},
   "source": [
    "# Título\n",
    "\n",
    "## Subtítulo\n",
    "\n",
    "1. Item 1\n",
    "2. Item 2.\n",
    "\n",
    "\n",
    "A equação pode ser _inline_, como em $a = b^2 - \\sqrt{c}$. Ou _displayed_:\n",
    "\n",
    "$$ a = b^2 - \\sqrt{c} $$"
   ]
  },
  {
   "cell_type": "code",
   "execution_count": 1,
   "id": "9a251267",
   "metadata": {},
   "outputs": [],
   "source": [
    "import numpy as np\n",
    "\n",
    "b = 2\n",
    "c = 3\n"
   ]
  },
  {
   "cell_type": "code",
   "execution_count": 2,
   "id": "2b817157",
   "metadata": {},
   "outputs": [],
   "source": [
    "c = 4"
   ]
  },
  {
   "cell_type": "code",
   "execution_count": 3,
   "id": "ad7a250b",
   "metadata": {},
   "outputs": [
    {
     "name": "stdout",
     "output_type": "stream",
     "text": [
      "2.0\n"
     ]
    }
   ],
   "source": [
    "a = b**2 - np.sqrt(c)\n",
    "\n",
    "print(a)\n"
   ]
  },
  {
   "cell_type": "code",
   "execution_count": null,
   "id": "63c01bd3",
   "metadata": {},
   "outputs": [],
   "source": []
  }
 ],
 "metadata": {
  "kernelspec": {
   "display_name": "Python 3 (ipykernel)",
   "language": "python",
   "name": "python3"
  },
  "language_info": {
   "codemirror_mode": {
    "name": "ipython",
    "version": 3
   },
   "file_extension": ".py",
   "mimetype": "text/x-python",
   "name": "python",
   "nbconvert_exporter": "python",
   "pygments_lexer": "ipython3",
   "version": "3.10.9"
  }
 },
 "nbformat": 4,
 "nbformat_minor": 5
}
