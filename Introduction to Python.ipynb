{
 "cells": [
  {
   "cell_type": "markdown",
   "metadata": {},
   "source": [
    "# Introduction to Python\n",
    "\n",
    "_Prof. Marcelo M. Rocha_\n",
    "_PPGEC / UFRGS_"
   ]
  },
  {
   "cell_type": "code",
   "execution_count": null,
   "metadata": {},
   "outputs": [],
   "source": [
    "#from numpy import * \n",
    "\n",
    "import numpy as np\n"
   ]
  },
  {
   "cell_type": "code",
   "execution_count": null,
   "metadata": {},
   "outputs": [],
   "source": [
    "α = 2\n",
    "print(α)\n"
   ]
  },
  {
   "cell_type": "markdown",
   "metadata": {},
   "source": [
    "### 1. Variables, types, object instances\n",
    "\n",
    "- Python is a scripting (interpreted) language\n",
    "\n",
    "- Indentation is part of Python sintax\n",
    "\n",
    "- Naming rules\n",
    "\n",
    "> \\- A variable name must start with a letter or the underscore character (\"_\"). <br>\n",
    "> \\- A variable name cannot start with a number. <br>\n",
    "> \\- A variable name can only contain alpha-numeric characters and underscores (A-z, 0-9, and _ ). <br>\n",
    "> \\- Unicode letters (e.g. greek charactes) are also allowed.   \n",
    "> \\- Variable names are case-sensitive (age, Age and AGE are three different variables). <br>\n",
    "\n",
    "- Reserved words\n",
    "\n",
    "``and``, ``as``, ``assert``, ``break``, ``class``, ``continue``, ``def``, ``del``, ``elif``, ``else``, ``except``, ``False``, ``finally``, ``for``, ``from``, ``global``, ``if``, ``import``, ``in``, ``is``, ``lambda``, ``None``, ``nonlocal``, ``not``, ``or``, ``pass``, ``raise``, ``return``, ``True``, ``try``, ``while``, ``with``, ``yield``.\n",
    "\n",
    "- Integers, floats, complex, strings, booleans (Python will try to recognize the type from assignment)\n"
   ]
  },
  {
   "cell_type": "code",
   "execution_count": null,
   "metadata": {},
   "outputs": [],
   "source": [
    "a =  3\n",
    "print('a is of type...', type(a))\n",
    "\n",
    "b =  3.\n",
    "print('b is of type...', type(b))\n",
    "\n",
    "c =  3. + 1.j\n",
    "print('c is of type...', type(c))\n",
    "\n",
    "d = '3'                             # you may use \"\" or '', but be careful\n",
    "print('d is of type...', type(d))\n",
    "\n",
    "e = True                            # or False, both are reserved words\n",
    "print('e is of type...', type(e))\n"
   ]
  },
  {
   "cell_type": "code",
   "execution_count": null,
   "metadata": {},
   "outputs": [],
   "source": [
    "a = 3.2\n",
    "b = a\n",
    "\n",
    "print(a == b)\n",
    "\n",
    "print(a is b)\n"
   ]
  },
  {
   "cell_type": "markdown",
   "metadata": {},
   "source": [
    "- Type casting is straightforward\n"
   ]
  },
  {
   "cell_type": "code",
   "execution_count": null,
   "metadata": {},
   "outputs": [],
   "source": [
    "a = 3.\n",
    "d = '    3  '\n",
    "f =  a + int(d)    # string to integer\n",
    "print(f)\n",
    "\n",
    "g =  str(a) + d    # integer to string\n",
    "print(g, type(g))\n",
    "\n",
    "h =  float(e)      # boolean to float\n",
    "print(h)\n",
    "\n",
    "c = 3 + 1j\n",
    "R = c.real\n",
    "I = c.imag\n",
    "C = c.conjugate()\n",
    "\n",
    "print(R, I, C)\n"
   ]
  },
  {
   "cell_type": "markdown",
   "metadata": {},
   "source": [
    "- In Python, everything is an _object_, which are instances of _classes_ \n",
    "\n",
    "- Variable types are also classes\n",
    "\n",
    "- Objects (or classes) have _attributes_ and _methods_\n",
    "  \n",
    "  For example, the ``split()`` method of the string class:"
   ]
  },
  {
   "cell_type": "code",
   "execution_count": null,
   "metadata": {},
   "outputs": [],
   "source": [
    "my_string = 'Any string chosen'\n",
    "print(len(my_string), type(my_string))\n",
    "\n",
    "print(my_string.split('i'))   # this result will be a \"list\"\n"
   ]
  },
  {
   "cell_type": "markdown",
   "metadata": {},
   "source": [
    "Other example, the ``format()`` method of string variables.\n"
   ]
  },
  {
   "cell_type": "code",
   "execution_count": null,
   "metadata": {},
   "outputs": [],
   "source": [
    "print('Variable \"c\" has R = {0:5.2f} and I = {1:5.2f}.'.format(c.real, c.imag))\n"
   ]
  },
  {
   "cell_type": "markdown",
   "metadata": {},
   "source": [
    "### 2. Collections\n",
    "\n",
    "- The three main types of Python collections are _lists_, _tuples_, and _dictionaries_\n",
    "\n",
    "- Lists are _mutable_\n"
   ]
  },
  {
   "cell_type": "code",
   "execution_count": null,
   "metadata": {},
   "outputs": [],
   "source": [
    "L = [3, 1., '2', True, 3+4j, 'Marcelo']\n",
    "\n",
    "print(len(L), type(L))\n",
    "\n",
    "print(L[  2])\n",
    "print(L[  :])  # the symbol \":\" is used to define a \"range\"\n",
    "print(L[ -1])\n",
    "\n",
    "print(L[1:4])\n",
    "\n",
    "print(L[:3], L[3:], '\\n')\n",
    "\n",
    "L[2] = 0\n",
    "print(L)\n",
    "\n",
    "print(L[::-1])\n"
   ]
  },
  {
   "cell_type": "markdown",
   "metadata": {},
   "source": [
    "- Tuples are imutable\n"
   ]
  },
  {
   "cell_type": "code",
   "execution_count": null,
   "metadata": {},
   "outputs": [],
   "source": [
    "L = (3, 1., '2', True, 3+4j, 'Marcelo')\n",
    "\n",
    "print(len(L), type(L))\n",
    "\n",
    "print(L[  2])\n",
    "print(L[  :])  # the symbol \":\" is used to define a \"range\"\n",
    "print(L[ -1])\n",
    "\n",
    "print(L[1:4])\n",
    "\n",
    "print(L[:3], L[3:], '\\n')\n",
    "\n",
    "#L[2] = 0\n",
    "#print(L)\n"
   ]
  },
  {
   "cell_type": "markdown",
   "metadata": {},
   "source": [
    "- Attribution and memory allocation\n",
    "\n",
    "  Python variables are references to memory addresses!!! Be careful with assignments!!!\n",
    "  "
   ]
  },
  {
   "cell_type": "code",
   "execution_count": null,
   "metadata": {},
   "outputs": [],
   "source": [
    "A = [0, 'c', [1, 2]]\n",
    "\n",
    "B    =  A.copy() \n",
    "A[2] = 'B has changed! Why?'\n",
    "\n",
    "print(A)\n",
    "print(B)\n"
   ]
  },
  {
   "cell_type": "markdown",
   "metadata": {},
   "source": [
    "But the _deep copy_ method is possible:"
   ]
  },
  {
   "cell_type": "code",
   "execution_count": null,
   "metadata": {},
   "outputs": [],
   "source": [
    "A = [0, 'c', [1, 2]]\n",
    "\n",
    "B    =  A.copy()\n",
    "A[2] = 'B has changed?'\n",
    "\n",
    "print(A)\n",
    "print(B)\n"
   ]
  },
  {
   "cell_type": "markdown",
   "metadata": {},
   "source": [
    "- Strings are lists of characters (hence mutable)\n"
   ]
  },
  {
   "cell_type": "code",
   "execution_count": null,
   "metadata": {},
   "outputs": [],
   "source": [
    "C = 'Texto.txt'\n",
    "\n",
    "print(C[:-4])\n",
    "\n",
    "D = C.replace('.txt', '.png')\n",
    "\n",
    "print(D)\n"
   ]
  },
  {
   "cell_type": "markdown",
   "metadata": {},
   "source": [
    "Indexation may be conditional..."
   ]
  },
  {
   "cell_type": "code",
   "execution_count": null,
   "metadata": {},
   "outputs": [],
   "source": [
    "A = np.array([1, 2, 3, 4, 5, 6, 7, 8])\n",
    "\n",
    "print(type(A), '\\n', A[A > 4], '\\n', A > 4)\n"
   ]
  },
  {
   "cell_type": "markdown",
   "metadata": {},
   "source": [
    "### 3. Loops, branching\n",
    "\n",
    "- Loops over iterators or iterables (attention for colons and indentations!)\n"
   ]
  },
  {
   "cell_type": "code",
   "execution_count": null,
   "metadata": {},
   "outputs": [],
   "source": [
    "for item in [0, 1, 2]:\n",
    "    print(item)\n",
    "\n",
    "for letra in 'palavra':\n",
    "    print(letra)\n",
    "    "
   ]
  },
  {
   "cell_type": "code",
   "execution_count": null,
   "metadata": {},
   "outputs": [],
   "source": [
    "for k, letra in enumerate('Python'):\n",
    "    print(k, letra)\n"
   ]
  },
  {
   "cell_type": "code",
   "execution_count": null,
   "metadata": {},
   "outputs": [],
   "source": [
    "for item1, item2 in zip([1,2,3], 'ab'):\n",
    "    print(item1, item2)\n"
   ]
  },
  {
   "cell_type": "code",
   "execution_count": null,
   "metadata": {},
   "outputs": [],
   "source": [
    "K = range(10)\n",
    "print(K)\n",
    "\n",
    "for k in np.arange(10):\n",
    "    print(k+1)\n"
   ]
  },
  {
   "cell_type": "markdown",
   "metadata": {},
   "source": [
    "- Branching according to condition (boolean)\n"
   ]
  },
  {
   "cell_type": "code",
   "execution_count": null,
   "metadata": {},
   "outputs": [],
   "source": [
    "test_1 = True\n",
    "\n",
    "if (not test_1):\n",
    "    print('Ok!')\n",
    "else:\n",
    "    print('Not ok!')\n"
   ]
  },
  {
   "cell_type": "code",
   "execution_count": null,
   "metadata": {},
   "outputs": [],
   "source": [
    "test_2 = 10\n",
    "\n",
    "if (test_1 & (test_2 < 9)):\n",
    "    print('Ok !')\n",
    "else:\n",
    "    print('Not ok!')\n"
   ]
  },
  {
   "cell_type": "code",
   "execution_count": null,
   "metadata": {},
   "outputs": [],
   "source": [
    "code = 'green'\n",
    "\n",
    "if code.lower() == 'blue':\n",
    "    print(1)\n",
    "    \n",
    "elif code.lower() == 'green': print(2)\n",
    "    \n",
    "elif code.lower() == 'red':\n",
    "    print(3)\n",
    "\n",
    "else:\n",
    "    print(4)\n"
   ]
  },
  {
   "cell_type": "markdown",
   "metadata": {},
   "source": [
    "### 4.  Functions\n",
    "\n",
    "- Python functions take _arguments_ and/or _keyword arguments_\n",
    "\n",
    "  Keyword arguments are used to set default values.\n"
   ]
  },
  {
   "cell_type": "code",
   "execution_count": null,
   "metadata": {},
   "outputs": [],
   "source": [
    "def myFunction(arg1, arg2, kwarg1=0.5, kwarg2=False):\n",
    "    ''' \n",
    "    \n",
    "    use this space to write the help for function.\n",
    "    \n",
    "    '''\n",
    "\n",
    "    a = arg1 + arg2 + kwarg1\n",
    "    \n",
    "    if (kwarg2):\n",
    "        a = a + kwarg1   #    +=, -=, *=, /=,  **=\n",
    "\n",
    "# a  *=  b   ===>   a = a *  b\n",
    "# a  -=  b   ===>   a = a -  b\n",
    "# a  +=  b   ===>   a = a +  b\n",
    "# a  /=  b   ===>   a = a /  b\n",
    "# a **=  b   ===>   a = a ** b\n",
    "        \n",
    "    return a\n"
   ]
  },
  {
   "cell_type": "code",
   "execution_count": null,
   "metadata": {},
   "outputs": [],
   "source": [
    "print(myFunction(3, 5))\n",
    "print(myFunction(3, 5, kwarg1=2.))\n",
    "print(myFunction(3, 5, kwarg2=True, kwarg1=2.))\n"
   ]
  },
  {
   "cell_type": "markdown",
   "metadata": {},
   "source": [
    "_Lambda_ functions are a fast way to define a simple function:\n"
   ]
  },
  {
   "cell_type": "code",
   "execution_count": null,
   "metadata": {},
   "outputs": [],
   "source": [
    "def fx1(x):\n",
    "    y = a*x**2 + b*x + c\n",
    "    return y\n"
   ]
  },
  {
   "cell_type": "code",
   "execution_count": null,
   "metadata": {},
   "outputs": [],
   "source": [
    "fx2 = lambda x: a*x**2 + b*x + c\n",
    "\n",
    "a = 1\n",
    "b = 1\n",
    "c = 2\n",
    "\n",
    "print(fx1(5), fx2(5))\n",
    "\n",
    "a = 1\n",
    "b = 1\n",
    "c = 3\n",
    "\n",
    "print(fx1(5), fx2(5))\n"
   ]
  },
  {
   "cell_type": "markdown",
   "metadata": {},
   "source": [
    "Comprehension lists"
   ]
  },
  {
   "cell_type": "code",
   "execution_count": null,
   "metadata": {},
   "outputs": [],
   "source": [
    "a = [x**2 for x in range(1,10,2)]\n",
    "\n",
    "print(a)\n"
   ]
  },
  {
   "cell_type": "markdown",
   "metadata": {},
   "source": [
    "### 5. Modules\n",
    "\n",
    "- Namespaces can be preserved\n",
    "- Nicknames are arbitrary\n"
   ]
  },
  {
   "cell_type": "code",
   "execution_count": 2,
   "metadata": {},
   "outputs": [],
   "source": [
    "# Preserving namespace, with nickname\n",
    "\n",
    "import numpy  as np\n",
    "import pandas as pd \n",
    "import matplotlib.pyplot as plt\n",
    "\n",
    "# Only specific methods\n",
    "\n",
    "from   scipy.optimize    import curve_fit\n",
    "from   scipy.interpolate import interp1d  as i1d\n",
    "\n",
    "# Everything, namespace is merged\n",
    "\n",
    "#from   MRPy  import *\n",
    "import MRPy as MRPy\n"
   ]
  },
  {
   "cell_type": "markdown",
   "metadata": {},
   "source": [
    "### 6. Modules ``numpy`` and ``matplotlib.pyplot`` \n",
    "\n",
    "- Modules ``numpy`` and ``scipy`` provides Matlab-like functionality\n"
   ]
  },
  {
   "cell_type": "code",
   "execution_count": 3,
   "metadata": {},
   "outputs": [
    {
     "name": "stdout",
     "output_type": "stream",
     "text": [
      "<class 'numpy.ndarray'> \n",
      "\n",
      "[1 2 3] \n",
      "\n",
      "(3,) \n",
      "\n",
      "[1 2 3] \n",
      "\n",
      "[[1 2 3]] \n",
      "\n",
      "(1, 3) \n",
      "\n",
      "[[1]\n",
      " [2]\n",
      " [3]] \n",
      "\n",
      "2.0\n"
     ]
    }
   ],
   "source": [
    "V = np.array([ 1, 2, 3 ])               # from a list\n",
    "\n",
    "print(type(V), '\\n')\n",
    "print(V, '\\n')\n",
    "print(V.shape,'\\n')\n",
    "\n",
    "print(V.T, '\\n')\n",
    "print(V.reshape(1,3), '\\n')\n",
    "print(V.reshape(1,3).shape, '\\n')\n",
    "print(V.reshape(1,3).T, '\\n')\n",
    "\n",
    "print(V.mean())\n"
   ]
  },
  {
   "cell_type": "code",
   "execution_count": 4,
   "metadata": {},
   "outputs": [
    {
     "name": "stdout",
     "output_type": "stream",
     "text": [
      "<class 'numpy.ndarray'> \n",
      "\n",
      "[[1 2 3]\n",
      " [4 5 6]] \n",
      "\n",
      "(2, 3) \n",
      "\n",
      "[[1 4]\n",
      " [2 5]\n",
      " [3 6]] \n",
      "\n",
      "(3, 2) \n",
      "\n",
      "3.5\n"
     ]
    }
   ],
   "source": [
    "M = np.array([[1, 2, 3], [4, 5, 6]])    # from a \"list of lists\"\n",
    "\n",
    "print(type(M), '\\n')\n",
    "print(M, '\\n')\n",
    "print(M.shape, '\\n')\n",
    "print(M.T, '\\n')\n",
    "print(M.T.shape, '\\n')\n",
    "\n",
    "print(M.mean())\n"
   ]
  },
  {
   "cell_type": "markdown",
   "metadata": {},
   "source": [
    "Matrix algebra:"
   ]
  },
  {
   "cell_type": "code",
   "execution_count": 5,
   "metadata": {},
   "outputs": [
    {
     "name": "stdout",
     "output_type": "stream",
     "text": [
      "[1 4 9] \n",
      "\n",
      "[[ 1  4  9]\n",
      " [16 25 36]] \n",
      "\n",
      "14 \n",
      "\n",
      "[[14 32]\n",
      " [32 77]]\n"
     ]
    }
   ],
   "source": [
    "print(V**2, '\\n')\n",
    "\n",
    "print(M**2, '\\n')\n",
    "\n",
    "print(np.matmul(V, V), '\\n')\n",
    "\n",
    "print(np.matmul(M, M.T))\n"
   ]
  },
  {
   "cell_type": "markdown",
   "metadata": {},
   "source": [
    "Be aware of memory usage paradigm:"
   ]
  },
  {
   "cell_type": "code",
   "execution_count": 6,
   "metadata": {},
   "outputs": [
    {
     "name": "stdout",
     "output_type": "stream",
     "text": [
      "[[1 2 7]\n",
      " [4 5 6]] \n",
      "\n",
      " [[1 2 7]\n",
      " [4 5 6]]\n"
     ]
    }
   ],
   "source": [
    "N = M\n",
    "M[0, 2] = 7\n",
    "\n",
    "print(N, '\\n\\n', M)\n"
   ]
  },
  {
   "cell_type": "code",
   "execution_count": 7,
   "metadata": {},
   "outputs": [
    {
     "name": "stdout",
     "output_type": "stream",
     "text": [
      "[[1 2 7]\n",
      " [4 5 6]] \n",
      "\n",
      " [[1 2 8]\n",
      " [4 5 6]]\n"
     ]
    }
   ],
   "source": [
    "N = M.copy()\n",
    "M[0, 2] = 8\n",
    "\n",
    "print(N, '\\n\\n', M)"
   ]
  },
  {
   "cell_type": "markdown",
   "metadata": {},
   "source": [
    "Other constructors...\n"
   ]
  },
  {
   "cell_type": "code",
   "execution_count": 8,
   "metadata": {},
   "outputs": [
    {
     "name": "stdout",
     "output_type": "stream",
     "text": [
      "[[0. 0. 0.]\n",
      " [0. 0. 0.]] \n",
      "\n",
      "[[0. 0. 0.]\n",
      " [0. 0. 0.]] \n",
      "\n",
      "[[1. 1. 1.]\n",
      " [1. 1. 1.]] \n",
      "\n",
      "[[1. 0. 0.]\n",
      " [0. 1. 0.]\n",
      " [0. 0. 1.]] \n",
      "\n"
     ]
    }
   ],
   "source": [
    "e   = np.empty((2,3))\n",
    "print(e, '\\n')\n",
    "\n",
    "z   = np.zeros((2,3))\n",
    "print(z, '\\n')\n",
    "\n",
    "one = np.ones((2,3))\n",
    "print(one, '\\n')\n",
    "\n",
    "ID  = np.eye(3)\n",
    "print(ID, '\\n')\n"
   ]
  },
  {
   "cell_type": "markdown",
   "metadata": {},
   "source": [
    "It is very powerfull..."
   ]
  },
  {
   "cell_type": "code",
   "execution_count": 9,
   "metadata": {},
   "outputs": [
    {
     "name": "stdout",
     "output_type": "stream",
     "text": [
      "[[ 1.00000000e+00 -4.31833072e-04]\n",
      " [-4.31833072e-04  1.00000000e+00]]\n",
      "\n",
      " [ 0.0001373  -0.00018477] \n",
      " [1.00027314 1.0002998 ]\n"
     ]
    }
   ],
   "source": [
    "N = np.random.randn(2,10000000)\n",
    "\n",
    "r = np.corrcoef(N)\n",
    "print(r)\n",
    "\n",
    "m = N.mean(axis=1)\n",
    "s = N.std (axis=1)\n",
    "\n",
    "print('\\n', m, '\\n', s)\n"
   ]
  },
  {
   "cell_type": "markdown",
   "metadata": {},
   "source": [
    "- Module ``matplotlib.pyplot`` provides Matlab-like graphics functionality\n"
   ]
  },
  {
   "cell_type": "code",
   "execution_count": 10,
   "metadata": {},
   "outputs": [
    {
     "data": {
      "text/plain": [
       "(-0.5, 1.5, -0.5, 1.5)"
      ]
     },
     "execution_count": 10,
     "metadata": {},
     "output_type": "execute_result"
    },
    {
     "data": {
      "image/png": "[encoded data removed]",
      "text/plain": [
       "<Figure size 1200x600 with 2 Axes>"
      ]
     },
     "metadata": {},
     "output_type": "display_data"
    }
   ],
   "source": [
    "YN = np.random.randn(2,1000)\n",
    "YU = np.random.rand (2,1000)\n",
    "\n",
    "plt.figure(1, figsize=(12,6))\n",
    "\n",
    "plt.subplot(1,2,1)\n",
    "plt.plot(YN[0], YN[1], 'b.')\n",
    "plt.xlabel('X')\n",
    "plt.ylabel('Y')\n",
    "plt.grid(True)\n",
    "plt.axis([-4, 4, -4, 4])\n",
    "\n",
    "plt.subplot(1,2,2)\n",
    "plt.plot(YU[0], YU[1], 'b.')\n",
    "plt.xlabel('X')\n",
    "plt.ylabel('Y')\n",
    "plt.grid(True)\n",
    "plt.axis([-0.5, 1.5, -0.5, 1.5])\n"
   ]
  },
  {
   "cell_type": "markdown",
   "metadata": {},
   "source": [
    "### 7. Application example (curve fitting for data from file)\n",
    "\n",
    "Read data from excel file:\n"
   ]
  },
  {
   "cell_type": "code",
   "execution_count": 11,
   "metadata": {},
   "outputs": [
    {
     "name": "stdout",
     "output_type": "stream",
     "text": [
      "           X         Y\n",
      "1   0.372548  0.160995\n",
      "2   0.211660  0.132161\n",
      "3   0.137182  0.048167\n",
      "4   0.778183  0.636173\n",
      "5   0.641167  0.429601\n",
      "6   0.136154  0.058164\n",
      "7   0.351199  0.198249\n",
      "8   0.724290  0.601391\n",
      "9   0.865977  0.823913\n",
      "10  0.191923  0.071361\n"
     ]
    }
   ],
   "source": [
    "dados = pd.read_excel('resources/data/dados.xlsx', \n",
    "                       index_col=0, \n",
    "                       header=0,\n",
    "                       sheet_name='Dados')\n",
    "\n",
    "print(dados)\n",
    "\n",
    "X = dados.X\n",
    "Y = dados.Y\n",
    "\n",
    "X = dados['X']\n",
    "Y = dados['Y']\n",
    "\n",
    "# print(X, '\\n', Y)\n",
    "\n",
    "k = np.argsort(X)\n",
    "X = X.values[k]\n",
    "Y = Y.values[k]\n"
   ]
  },
  {
   "cell_type": "markdown",
   "metadata": {},
   "source": [
    "Propose a function to be fitted:"
   ]
  },
  {
   "cell_type": "code",
   "execution_count": 12,
   "metadata": {},
   "outputs": [],
   "source": [
    "def parabole(x, a, b, c):\n",
    "    \n",
    "    y = a*x**2 + b*x + c\n",
    "    \n",
    "    return y\n"
   ]
  },
  {
   "cell_type": "markdown",
   "metadata": {},
   "source": [
    "Specify initial values and boundaries:\n"
   ]
  },
  {
   "cell_type": "code",
   "execution_count": 13,
   "metadata": {},
   "outputs": [],
   "source": [
    "Pmin = (-10, -10, -10)     # lower bounds\n",
    "P0   = (  0,   0,   0)     # initial guesses\n",
    "Pmax = ( 10,  10,  10)     # upper bounds\n"
   ]
  },
  {
   "cell_type": "markdown",
   "metadata": {},
   "source": [
    "Call scipy method ``curve_fit``:"
   ]
  },
  {
   "cell_type": "code",
   "execution_count": 14,
   "metadata": {},
   "outputs": [
    {
     "name": "stdout",
     "output_type": "stream",
     "text": [
      "[[ 0.04403892 -0.04252953  0.0069882 ]\n",
      " [-0.04252953  0.04225049 -0.00726849]\n",
      " [ 0.0069882  -0.00726849  0.00142387]]\n"
     ]
    }
   ],
   "source": [
    "par, cv = curve_fit(parabole, X, Y) # , p0=P0, bounds=(Pmin, Pmax))\n",
    "      \n",
    "print(cv)"
   ]
  },
  {
   "cell_type": "markdown",
   "metadata": {},
   "source": [
    "Print formatted results:\n"
   ]
  },
  {
   "cell_type": "code",
   "execution_count": 15,
   "metadata": {},
   "outputs": [
    {
     "name": "stdout",
     "output_type": "stream",
     "text": [
      "Fitted parameters: \n",
      "\n",
      " a =  1.0680\n",
      " b = -0.0528\n",
      " c =  0.0539\n",
      "\n"
     ]
    }
   ],
   "source": [
    "output  = 'Fitted parameters: \\n\\n '\n",
    "output += 'a = {0[0]:7.4f}\\n b = {0[1]:7.4f}\\n c = {0[2]:7.4f}\\n'\n",
    "\n",
    "print(output.format(par))\n"
   ]
  },
  {
   "cell_type": "code",
   "execution_count": 16,
   "metadata": {},
   "outputs": [
    {
     "data": {
      "image/png": "[encoded data removed]",
      "text/plain": [
       "<Figure size 1000x800 with 1 Axes>"
      ]
     },
     "metadata": {},
     "output_type": "display_data"
    }
   ],
   "source": [
    "xi = np.linspace(0, 1, 100)\n",
    "yi = parabole(xi, par[0], par[1], par[2])\n",
    "\n",
    "plt.figure(2, figsize=(10,8))\n",
    "plt.plot(X,  Y,  'b')\n",
    "plt.plot(xi, yi, 'r' )\n",
    "plt.plot\n",
    "plt.grid(True)\n"
   ]
  },
  {
   "cell_type": "markdown",
   "metadata": {},
   "source": [
    "### 8. Module ``MRPy`` "
   ]
  },
  {
   "cell_type": "code",
   "execution_count": 17,
   "metadata": {},
   "outputs": [
    {
     "ename": "AttributeError",
     "evalue": "module 'MRPy' has no attribute 'white_noise'",
     "output_type": "error",
     "traceback": [
      "\u001b[1;31m---------------------------------------------------------------------------\u001b[0m",
      "\u001b[1;31mAttributeError\u001b[0m                            Traceback (most recent call last)",
      "Cell \u001b[1;32mIn[17], line 2\u001b[0m\n\u001b[0;32m      1\u001b[0m \u001b[38;5;28;01mimport\u001b[39;00m \u001b[38;5;21;01mMRPy\u001b[39;00m \u001b[38;5;28;01mas\u001b[39;00m \u001b[38;5;21;01mMRPy\u001b[39;00m\n\u001b[1;32m----> 2\u001b[0m X \u001b[38;5;241m=\u001b[39m \u001b[43mMRPy\u001b[49m\u001b[38;5;241;43m.\u001b[39;49m\u001b[43mwhite_noise\u001b[49m(NX\u001b[38;5;241m=\u001b[39m\u001b[38;5;241m2\u001b[39m, fs\u001b[38;5;241m=\u001b[39m\u001b[38;5;241m1024\u001b[39m)\n\u001b[0;32m      3\u001b[0m X\u001b[38;5;241m.\u001b[39mplot_time()\n",
      "\u001b[1;31mAttributeError\u001b[0m: module 'MRPy' has no attribute 'white_noise'"
     ]
    }
   ],
   "source": [
    "import MRPy as MRPy\n",
    "X = MRPy.white_noise(NX=2, fs=1024)\n",
    "X.plot_time();\n"
   ]
  },
  {
   "cell_type": "code",
   "execution_count": null,
   "metadata": {},
   "outputs": [],
   "source": [
    "X.plot_freq();\n"
   ]
  },
  {
   "cell_type": "code",
   "execution_count": null,
   "metadata": {},
   "outputs": [],
   "source": []
  }
 ],
 "metadata": {
  "kernelspec": {
   "display_name": "Python 3 (ipykernel)",
   "language": "python",
   "name": "python3"
  },
  "language_info": {
   "codemirror_mode": {
    "name": "ipython",
    "version": 3
   },
   "file_extension": ".py",
   "mimetype": "text/x-python",
   "name": "python",
   "nbconvert_exporter": "python",
   "pygments_lexer": "ipython3",
   "version": "3.10.9"
  }
 },
 "nbformat": 4,
 "nbformat_minor": 2
}
