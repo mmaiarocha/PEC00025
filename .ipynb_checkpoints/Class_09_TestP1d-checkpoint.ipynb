{
 "cells": [
  {
   "cell_type": "markdown",
   "metadata": {},
   "source": [
    "### Universidade Federal do Rio Grande do Sul (UFRGS)   \n",
    "Programa de Pós-Graduação em Engenharia Civil (PPGEC)   \n",
    "\n",
    "# PEC00025: Introduction to Vibration Theory\n",
    "\n",
    "\n",
    "## Test P1 (2023/1): time and frequency domain analysis of sdof systems\n",
    "\n",
    "---\n"
   ]
  },
  {
   "cell_type": "code",
   "execution_count": 1,
   "metadata": {},
   "outputs": [],
   "source": [
    "# Importing Python modules required for this notebook\n",
    "# (this cell must be executed with \"shift+enter\" before any other Python cell)\n",
    "\n",
    "import numpy as np\n",
    "import matplotlib.pyplot as plt\n",
    "from MRPy import *\n"
   ]
  },
  {
   "cell_type": "markdown",
   "metadata": {},
   "source": [
    "## Questão 1\n",
    "\n",
    "Uma pessoa com massa $m = 80$kg impacta verticalmente a extremidade de um trampolim com velocidade $v = 3$m/s. O trampolim tem comprimento $L = 2$m, massa por unidade de comprimento $\\mu = 20$kg/m, e amortecimento $\\zeta = 2$% (razão do crítico). A rigidez à flexão, $EI$, é tal que o deslocamento estático sob o peso da pessoa é 0,1m. Pergunta-se:\n",
    "\n",
    "1. Qual o máximo deslocamento na extremidade do trampolim após o impacto?\n",
    "2. Qual o tempo transcorrido até que a pessoa perca o contato com o trampolim ao ser projetada de volta para cima?\n",
    "3. Quantos ciclos de vibração o trampolim completará antes que a pessoa volte a cair impactando o mesmo pela segunda vez?\n",
    "4. Quais as máximas reações de apoio $M_A$ (momento) e $V_A$ (força vertical)? \n",
    "\n",
    "<img src=\"resources/tests/PEC00025A_231_P1_Q1.JPG\" alt=\"Question 1\" width=\"480px\"/>\n",
    "\n",
    "\n",
    "### Cálculo das propriedades do sistema\n"
   ]
  },
  {
   "cell_type": "code",
   "execution_count": 2,
   "metadata": {},
   "outputs": [
    {
     "name": "stdout",
     "output_type": "stream",
     "text": [
      "Rigidez do trampolim:                      7848 N/m\n",
      "Massa total (pessoa + trampolim):         100.0 kg\n",
      "Velocidade inicial (pessoa + trampolim):   2.40 m/s\n",
      "Frequência natural do sistema:             1.41 Hz\n"
     ]
    }
   ],
   "source": [
    "L  =  2.             # comprimento do trampolim (m)\n",
    "vp =  3.             # velocidade da pessoa no contato (m/s)\n",
    "\n",
    "mp =  80.            # massa da pessoa (kg)\n",
    "mt =  20*L/2         # massa do trampolim (metade da massa total, kg)\n",
    "m  =  mp + mt        # massa oscilante total (kg)\n",
    "\n",
    "zt =  0.02           # amortecimento razão do crítico\n",
    "ue =  0.1            # deslocamento estático sob o peso da pessoa (m)\n",
    "g  =  9.81           # gravidade (m/s2)\n",
    "\n",
    "k  =  mp*g/ue        # coeficiente de rigidez\n",
    "Q  =  mp*vp          # quantidade de movimento inicial\n",
    "v0 =  Q/m            # velocidade pessoa+trampolim após contato\n",
    "wn =  np.sqrt(k/m)   # frequência natural (rad/s)\n",
    "fn =  wn/2/np.pi     # frequência natural (Hz)\n",
    "\n",
    "print('Rigidez do trampolim:                     {0:5.0f} N/m'.format(k))\n",
    "print('Massa total (pessoa + trampolim):         {0:5.1f} kg'.format(m))\n",
    "print('Velocidade inicial (pessoa + trampolim):  {0:5.2f} m/s'.format(v0))\n",
    "print('Frequência natural do sistema:            {0:5.2f} Hz'.format(fn))\n"
   ]
  },
  {
   "cell_type": "markdown",
   "metadata": {},
   "source": [
    "### 1) Deslocamento máximo\n",
    "\n",
    "Após o contato, a massa da pessoa se soma à massa (parcial) do trampolim com uma velocidade inicial dada.\n",
    "O deslocamento máximo tem duas parcelas:\n",
    "\n",
    "1. um deslocamento devido a uma velocidade inicial, mais\n",
    "2. um deslocamento devido a uma força impulsiva retangular de duração infinita, com fator de amplificação A = 2. \n",
    "\n",
    "<img src=\"images/dynamic_factors.jpg\" alt=\"Dynamic factors\" width=\"480px\"/>\n",
    "\n",
    "Na verdade esses dois deslocamentos de pico não acontecerão exatamente no mesmo instante e, portanto,\n",
    "simplesmente somá-los é uma simplificação que resulta em um deslocamento total superestimado. \n",
    "Além disso, ao se desprezar o efeito do amortecimento na amplitude observada após 1/4 do período,\n",
    "o deslocamento máximo devido à velocidade inicial também é um pouco superestimado.\n"
   ]
  },
  {
   "cell_type": "code",
   "execution_count": 3,
   "metadata": {},
   "outputs": [
    {
     "name": "stdout",
     "output_type": "stream",
     "text": [
      "Deslocamento devido à velocidade inicial:  0.27 m\n",
      "Deslocamento devido à força impulsiva:     0.20 m\n",
      "Deslocamento máximo total:                 0.47 m\n"
     ]
    }
   ],
   "source": [
    "umax_1 = v0/wn      # parcela referente à conservação da quantidade de moviment\n",
    "umax_2 = 2*ue       # parcela referente à força impulsiva \n",
    "\n",
    "umax   = umax_1 + umax_2\n",
    "\n",
    "print('Deslocamento devido à velocidade inicial: {0:5.2f} m'.format(umax_1))\n",
    "print('Deslocamento devido à força impulsiva:    {0:5.2f} m'.format(umax_2))\n",
    "print('Deslocamento máximo total:                {0:5.2f} m'.format(umax))\n"
   ]
  },
  {
   "cell_type": "markdown",
   "metadata": {},
   "source": [
    "O cálculo abaixo, obviamente não exigido na prova, apresenta o resultado correto para essa questão utilizado\n",
    "uma integração por Duhamel.\n"
   ]
  },
  {
   "cell_type": "code",
   "execution_count": 4,
   "metadata": {},
   "outputs": [
    {
     "name": "stdout",
     "output_type": "stream",
     "text": [
      "Deslocamento máximo total (por Duhamel):   0.38 m\n"
     ]
    },
    {
     "data": {
      "image/png": "[encoded data removed]",
      "text/plain": [
       "<Figure size 720x288 with 1 Axes>"
      ]
     },
     "metadata": {
      "needs_background": "light"
     },
     "output_type": "display_data"
    }
   ],
   "source": [
    "F = MRPy(-mp*g*np.ones((1,1024)), Td=8)/m         # força constante a partir de t = 0\n",
    "u = F.sdof_Duhamel(fn, zt, V0=-v0)                # resolve por Duhamel, com velocidade inicial dada\n",
    "\n",
    "u.plot_time(fig=2, figsize=[10,4], axis_t=[0, u.Td, -0.6, 0.6]);\n",
    "\n",
    "u_pk = np.max(np.abs(u[0]))\n",
    "print('Deslocamento máximo total (por Duhamel):  {0:5.2f} m'.format(u_pk))\n"
   ]
  },
  {
   "cell_type": "markdown",
   "metadata": {},
   "source": [
    "O que confirma que a simples superposição dos dois efeitos superestima o pico de deslocamento.\n"
   ]
  },
  {
   "cell_type": "markdown",
   "metadata": {},
   "source": [
    "### 2) Tempo até nova perda de contato\n",
    "\n",
    "A resposta devida à velocidade inicial reverte o sinal e é maior que a resposta devida à força impulsiva,\n",
    "que não reverte o sinal. Portanto a resposta total terá reversão de sinal, como de fato pode ser observado\n",
    "no gráfico da solução por Duhamel.\n",
    "\n",
    "Pode-se então supor que o contato só será desfeito no momento em que o deslocamento atinge o pico com o\n",
    "sinal revertido, o que ocorre mais ou menos aos 3/4 do período natural de vibração livre do sistema\n",
    "pessoa+trampolim.\n"
   ]
  },
  {
   "cell_type": "code",
   "execution_count": 5,
   "metadata": {},
   "outputs": [
    {
     "name": "stdout",
     "output_type": "stream",
     "text": [
      "A perda de contato ocorrerá aos 0.532 s\n",
      "Pela solução por Duhamel seria aos 0.571 s\n"
     ]
    }
   ],
   "source": [
    "Tn  = 1/fn               # período de vibração (pessoa + trampolim)\n",
    "tk1 = 3*Tn/4             # perda de contato estimada\n",
    "\n",
    "t   = u.t_axis()         # perda de contato pela solução por Duhamel\n",
    "kt  = np.argmax(u[0])\n",
    "tk2 = t[kt]\n",
    "\n",
    "print('A perda de contato ocorrerá aos {0:5.3f} s'.format(tk1))\n",
    "print('Pela solução por Duhamel seria aos {0:5.3f} s'.format(tk2))\n"
   ]
  },
  {
   "cell_type": "markdown",
   "metadata": {},
   "source": [
    "Portanto o critério usado para a estimativa é razoável.\n"
   ]
  },
  {
   "cell_type": "code",
   "execution_count": 6,
   "metadata": {},
   "outputs": [
    {
     "data": {
      "image/png": "[encoded data removed]",
      "text/plain": [
       "<Figure size 720x288 with 1 Axes>"
      ]
     },
     "metadata": {
      "needs_background": "light"
     },
     "output_type": "display_data"
    }
   ],
   "source": [
    "band = [2/u.Td, u.fs/32]\n",
    "a    =  u.differentiate(band=band).differentiate(band=band)\n",
    "\n",
    "a.plot_time(fig=2, figsize=[10,4], axis_t=[0, a.Td/2, -40, 40]);\n"
   ]
  },
  {
   "cell_type": "markdown",
   "metadata": {},
   "source": [
    "### 3) Trampolim sem a pessoa\n",
    "\n",
    "A partir do momento em que o trampolim está oscilando sem a pessoa sua frequência natural aumenta, \n",
    "porque embora a rigidez permaneça a mesma a massa aderida diminui.\n"
   ]
  },
  {
   "cell_type": "code",
   "execution_count": 7,
   "metadata": {},
   "outputs": [
    {
     "name": "stdout",
     "output_type": "stream",
     "text": [
      "Período de vibração pessoa+trampolin:      0.71 s\n",
      "Período de vibração só trampolim:          0.32 s\n"
     ]
    }
   ],
   "source": [
    "wnt = np.sqrt(k/mt)\n",
    "fnt = wnt/2/np.pi\n",
    "Tnt = 1/fnt\n",
    "\n",
    "print('Período de vibração pessoa+trampolin:     {0:5.2f} s'.format(Tn))\n",
    "print('Período de vibração só trampolim:         {0:5.2f} s'.format(Tnt))\n"
   ]
  },
  {
   "cell_type": "markdown",
   "metadata": {},
   "source": [
    "Portanto o período reduz-se para aproximadamente a metade. \n",
    "\n",
    "Considerando que houve uma restituição total da energia cinética, a velocidade da pessoa ao se soltar do trampolim é a mesma do instante de contato inicial. \n",
    "\n",
    "O tempo para retornar ao contato é dado pela equação da posição de um corpo acelerado:\n",
    "\n",
    "$$ u = u_0 + v_0 t + \\frac{a t^2}{2} $$\n",
    "\n",
    "com $u = u_0$ (retorno à mesma posição inicial) e $a = g$. Isolando-se $t$ tem-se:\n",
    "\n",
    "$$ t = \\frac{2v_0}{g}$$\n",
    "\n",
    "onde $v_0$ é a velocidade da pessoa no momento do contato inicial (3m/s).\n",
    "Dividindo-se o tempo transcorrido pelo período do trampolim vazio tem-se então:\n"
   ]
  },
  {
   "cell_type": "code",
   "execution_count": 8,
   "metadata": {},
   "outputs": [
    {
     "name": "stdout",
     "output_type": "stream",
     "text": [
      "Tempo até novo contato:                    0.61 s\n",
      "Número aprox. de oscilações do trampolim:       2\n"
     ]
    }
   ],
   "source": [
    "T1 = 2*vp/g\n",
    "N  = T1/Tnt\n",
    "\n",
    "print('Tempo até novo contato:                   {0:5.2f} s'.format(T1))\n",
    "print('Número aprox. de oscilações do trampolim: {0:7.0f}'.format(np.round(N)))\n"
   ]
  },
  {
   "cell_type": "markdown",
   "metadata": {},
   "source": [
    "### 4) Máximas reações de apoio\n",
    "\n",
    "As máximas reações podem ser estimadas a partir da força estática equivalente. \n",
    "Para isso, vamos usar o deslocamento máximo (superestimado) do item (1).\n"
   ]
  },
  {
   "cell_type": "code",
   "execution_count": 9,
   "metadata": {},
   "outputs": [
    {
     "name": "stdout",
     "output_type": "stream",
     "text": [
      "Momento reativo no engaste:  7391 Nm\n",
      "Reação vertical no engaste:  3696 N\n"
     ]
    }
   ],
   "source": [
    "Feq = umax*k           # força estática equivalente\n",
    "\n",
    "MA  = L*Feq            # momento reativo\n",
    "VA  = Feq              # reação vertical\n",
    "\n",
    "print('Momento reativo no engaste: {0:5.0f} Nm'.format(MA))\n",
    "print('Reação vertical no engaste: {0:5.0f} N'.format(VA))\n"
   ]
  },
  {
   "cell_type": "markdown",
   "metadata": {},
   "source": [
    "Contudo, o valor correto calculado a partir da solução por Duhamel (não exigida na prova) seria:"
   ]
  },
  {
   "cell_type": "code",
   "execution_count": 10,
   "metadata": {},
   "outputs": [
    {
     "name": "stdout",
     "output_type": "stream",
     "text": [
      "Momento reativo no engaste:  5949 Nm\n",
      "Reação vertical no engaste:  2974 N\n"
     ]
    }
   ],
   "source": [
    "Feq = u_pk*k           # força estática equivalente\n",
    "\n",
    "MA  = L*Feq            # momento reativo\n",
    "VA  = Feq              # reação vertical\n",
    "\n",
    "print('Momento reativo no engaste: {0:5.0f} Nm'.format(MA))\n",
    "print('Reação vertical no engaste: {0:5.0f} N'.format(VA))\n"
   ]
  },
  {
   "cell_type": "markdown",
   "metadata": {},
   "source": [
    "## Questão 2\n",
    "\n",
    "Um carrinho se desloca com velocidade estacionária $v$ sobre uma superfície com relevo senoidal, cujo comprimento de onda (igual à distância entre as rodas) é $\\lambda_0 = 2$m e amplitude (zero-a-pico) $h = 0,1$m. Sobre o carrinho é transportada uma massa $m = 200$kg, que está suportada por um console elástico cujo amortecimento é $\\zeta = 1$% (razão do crítico). Considere que a massa do carrinho é desprezável. \n",
    "\n",
    "5. Admitindo inicialmente um console rígido, qual a máxima velocidade $v_{\\rm MAX}$ que o carrinho pode atingir antes que as rodas percam contato com a superfície. \n",
    "6. Para $v = v_{\\rm MAX}/2$, determine a rigidez da mola k de modo que a amplitude total de vibração da massa (zero-a-pico) seja no máximo igual a $2h$.\n",
    "7. Para a rigidez $k$ calculada, determine a máxima e a mínima forças de reação vertical $R$ em cada roda durante o movimento.\n",
    "\n",
    "<img src=\"resources/tests/PEC00025A_231_P1_Q2.jpg\" alt=\"Question 2\" width=\"480px\"/>  \n",
    "\n",
    "\n",
    "### Cálculo das propriedades do sistema\n"
   ]
  },
  {
   "cell_type": "code",
   "execution_count": 11,
   "metadata": {
    "scrolled": false
   },
   "outputs": [],
   "source": [
    "h  =  0.1            # amplitude do deslocamento na base\n",
    "l0 =  2.             # distância entre rodas (m)\n",
    "m  =  200.           # massa oscilante total (kg)\n",
    "zt =  0.01           # amortecimento razão do crítico\n",
    "g  =  9.81           # gravidade (m/s2)\n"
   ]
  },
  {
   "cell_type": "markdown",
   "metadata": {},
   "source": [
    "### 2.1 Velocidade máxima\n",
    "\n",
    "Com a mola considerada rígida, a massa acompanha o relevo do terreno. Isso implica em um deslocamento da base\n",
    "igual ao deslocamento da massa com uma frequência igual a $f_0 = v_{\\rm max}/\\lambda_0$.\n",
    "O deslocamento vertical é uma função harmônica:\n",
    "\n",
    "$$ u(t) = h \\sin (2\\pi f_0 t) = h \\sin \\left( \\frac{2\\pi v_{\\rm max} t}{\\lambda_0} \\right) $$\n",
    "\n",
    "\n",
    "O critério para que o carrinho não descole do terreno é a aceleração vertical não superar a gravidade.\n",
    "A aceleração é a segunda derivada do deslocamento.\n",
    "\n",
    "$$ a = \\frac{d^2 u}{dt^2}  = \n",
    "- h \\left(\\frac{2\\pi v_{\\rm max}}{\\lambda_0} \\right)^2 \\sin \\left( \\frac{2\\pi v_{\\rm max} t}{\\lambda_0} \\right)  > -g $$\n",
    "\n",
    "Portanto o limite de velocidade é dado por:\n",
    "\n",
    "$$ h \\left(\\frac{2\\pi v_{\\rm max}}{\\lambda_0} \\right)^2 = g $$\n",
    "\n",
    "Que resulta em:\n",
    "\n",
    "$$ v_{\\rm max} = \\frac{\\lambda_0}{2\\pi} \\sqrt{\\frac{g}{h}}$$\n"
   ]
  },
  {
   "cell_type": "code",
   "execution_count": 12,
   "metadata": {},
   "outputs": [
    {
     "name": "stdout",
     "output_type": "stream",
     "text": [
      "Máxima velocidade para manter contato:     3.15 m/s\n"
     ]
    }
   ],
   "source": [
    "vmax = (l0/2/np.pi)*np.sqrt(g/h)\n",
    "\n",
    "print('Máxima velocidade para manter contato:    {0:5.2f} m/s'.format(vmax))\n"
   ]
  },
  {
   "cell_type": "markdown",
   "metadata": {},
   "source": [
    "### 2.2 Amplitude de vibração para velocidade $v_{\\rm max}/2$\n",
    "\n",
    "A aceleração na base é dada pela mesma expressão anterior, mas \n",
    "com a velocidade agora reduzida à metade:\n",
    "\n",
    "$$ a = - h \\left(\\frac{\\pi v_{\\rm max}}{\\lambda_0} \\right)^2 \\sin \\left( \\frac{\\pi v_{\\rm max} t}{\\lambda_0} \\right)$$\n",
    "\n",
    "onde a frequência de excitação é dada por:\n",
    "\n",
    "$$ f_0 = \\frac{\\pi v_{\\rm max}}{2\\pi \\cdot \\lambda_0} = \\frac{v_{\\rm max}}{2\\lambda_0} $$\n",
    "\n",
    "Calculando amplitude e frequência da excitação:\n"
   ]
  },
  {
   "cell_type": "code",
   "execution_count": 13,
   "metadata": {},
   "outputs": [
    {
     "name": "stdout",
     "output_type": "stream",
     "text": [
      "Amplitude da aceleração:                   2.45 m/s2\n",
      "Frequência da excitação harmônica:         0.79 Hz\n"
     ]
    }
   ],
   "source": [
    "aG = h*((np.pi*vmax/l0)**2)\n",
    "f0 = vmax/(2*l0)\n",
    "\n",
    "print('Amplitude da aceleração:                  {0:5.2f} m/s2'.format(aG))\n",
    "print('Frequência da excitação harmônica:        {0:5.2f} Hz'.format(f0))\n"
   ]
  },
  {
   "cell_type": "markdown",
   "metadata": {},
   "source": [
    "Para que a amplitude total seja no máximo $2h$, a amplitude do sistema deve ser\n",
    "no máximo $h$, visto que já ocorre uma amplitude $h$ inerente ao próprio relevo.\n",
    "\n",
    "No cálculo a seguir, vamos variando a frequência $f_{\\rm n}$ até ter a amplitude \n",
    "de deslocamento desejada:\n"
   ]
  },
  {
   "cell_type": "code",
   "execution_count": 14,
   "metadata": {},
   "outputs": [
    {
     "name": "stdout",
     "output_type": "stream",
     "text": [
      "Frequência natural de vibração livre:     1.114 Hz\n",
      "Resposta em deslocamento estático:        0.050 m\n",
      "AMPLITUDE DA RESPOSTA EM DESLOCAMENTO:    0.100 m\n",
      "Fator de amplificação dinâmica:           2.000\n",
      "Rigidez calibrada:                        9.807 kN/m\n"
     ]
    }
   ],
   "source": [
    "fn =   1.414*f0              # valor obtido por tentativa e erro\n",
    "k  = ((2*np.pi*fn)**2)*m\n",
    "ue =   aG*m/k\n",
    "\n",
    "bt =   f0/fn\n",
    "A  =   np.sqrt(1/((1 - bt**2)**2 + (2*zt*bt)**2))\n",
    "ud =   A*ue\n",
    "\n",
    "print('Frequência natural de vibração livre:     {0:5.3f} Hz'.format(fn))\n",
    "print('Resposta em deslocamento estático:        {0:5.3f} m'.format(ue))\n",
    "print('AMPLITUDE DA RESPOSTA EM DESLOCAMENTO:    {0:5.3f} m'.format(ud))\n",
    "print('Fator de amplificação dinâmica:           {0:5.3f}'.format(A))\n",
    "print('Rigidez calibrada:                        {0:5.3f} kN/m'.format(k/1000))\n"
   ]
  },
  {
   "cell_type": "markdown",
   "metadata": {},
   "source": [
    "### 2.3 Máxima reação vertical\n",
    "\n",
    "A máxima amplitude de deslocamento é portanto $h$, que multiplicada pela rigidez\n",
    "dá a força da mola sobre a massa. Essa força deve ser ainda dividida entre os\n",
    "dois eixos. Portanto:\n"
   ]
  },
  {
   "cell_type": "code",
   "execution_count": 15,
   "metadata": {},
   "outputs": [
    {
     "name": "stdout",
     "output_type": "stream",
     "text": [
      "Máxima reação em cada eixo:               49.98 kgf\n"
     ]
    }
   ],
   "source": [
    "R = h*k/2/g\n",
    "\n",
    "print('Máxima reação em cada eixo:               {0:5.2f} kgf'.format(R))\n"
   ]
  },
  {
   "cell_type": "code",
   "execution_count": null,
   "metadata": {},
   "outputs": [],
   "source": []
  }
 ],
 "metadata": {
  "kernelspec": {
   "display_name": "Python 3 (ipykernel)",
   "language": "python",
   "name": "python3"
  },
  "language_info": {
   "codemirror_mode": {
    "name": "ipython",
    "version": 3
   },
   "file_extension": ".py",
   "mimetype": "text/x-python",
   "name": "python",
   "nbconvert_exporter": "python",
   "pygments_lexer": "ipython3",
   "version": "3.8.3"
  }
 },
 "nbformat": 4,
 "nbformat_minor": 2
}
