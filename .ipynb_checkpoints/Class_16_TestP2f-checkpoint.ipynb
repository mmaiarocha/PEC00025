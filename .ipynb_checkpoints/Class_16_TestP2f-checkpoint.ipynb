{
 "cells": [
  {
   "cell_type": "markdown",
   "metadata": {},
   "source": [
    "Universidade Federal do Rio Grande do Sul (UFRGS)   \n",
    "Programa de Pós-Graduação em Engenharia Civil (PPGEC)   \n",
    "\n",
    "# PEC00025: Introduction to Vibration Theory\n",
    "\n",
    "\n",
    "## Test P2 (2025/1): Discrete and continuous mdof systems\n",
    "\n",
    "---\n",
    "\n",
    "**NAME:** <br/>\n",
    "**CARD:** \n",
    "\n"
   ]
  },
  {
   "cell_type": "code",
   "execution_count": 1,
   "metadata": {},
   "outputs": [],
   "source": [
    "# Importing Python modules required for this notebook\n",
    "# (this cell must be executed with \"shift+enter\" before any other Python cell)\n",
    "\n",
    "import numpy as np\n",
    "import matplotlib.pyplot as plt\n",
    "import pickle as pk\n",
    "import scipy.linalg as sc\n"
   ]
  },
  {
   "cell_type": "code",
   "execution_count": 2,
   "metadata": {},
   "outputs": [],
   "source": [
    "def vibration_modes(D, M):\n",
    "\n",
    "# Uses scipy to solve the eigenvalue problem (with dynamic matrix D)\n",
    "    l2, Phi = sc.eig(D)\n",
    "    w2  = 1/l2\n",
    "\n",
    "# Ensure ascending order of eigenvalues\n",
    "    iw  = w2.argsort()\n",
    "    w2  = w2[iw]\n",
    "    Phi = Phi[:,iw]\n",
    "    \n",
    "# Eigenvalues to vibration frequencies\n",
    "    wk  = np.sqrt(np.real(w2)) \n",
    "    fk  = wk/2/np.pi\n",
    "\n",
    "# Mass matrix normalization (Mk = 1 for all k)\n",
    "    for k in range(len(wk)):\n",
    "        Mk       = np.sum(np.diag(M)*Phi[:,k]*Phi[:,k])\n",
    "        Phi[:,k] = Phi[:,k]/np.sqrt(Mk)\n",
    "\n",
    "    return fk, wk, Phi\n"
   ]
  },
  {
   "cell_type": "markdown",
   "metadata": {},
   "source": [
    "## Questão 1\n",
    "\n",
    "A viga isostática é representada com sua massa ($m = \\mu L$) dividida em duas partes e concentrada nas posições indicadas na figura. Utilizando as relações força vs. deslocamentos dada, estime as duas frequências naturais de vibração livre do sistema com dois graus de liberdade. (_sistema discreto, análise modal_) \n",
    "\n",
    "<img src=\"resources/tests/PEC00025A_251_P2_beam.png\" alt=\"2dof beam\" width=\"540px\"/>\n",
    "\n",
    "### Dados:\n",
    "\n",
    "* $m = 1000 {\\rm kg}$\n",
    "* $L = 5 {\\rm m}$\n",
    "* $\\mu = 200 {\\rm kg/m}$\n",
    "* $EI = 36000{\\rm Nm^2}$ \n"
   ]
  },
  {
   "cell_type": "markdown",
   "metadata": {},
   "source": [
    "### Solução\n",
    "\n",
    "Os coeficientes de flexibilidade são indicados na figura dada:\n",
    "\n",
    "<img src=\"resources/tests/PEC00025A_251_P2_stiffness.png\" alt=\"stiffness\" width=\"480px\"/>\n",
    "\n",
    "Fazendo $F = 1$, as matrizes de flexibilidade e de massa são:\n",
    "\n",
    "$$ \\mathbf{K}^{-1} =  \\frac{L^3}{768EI} \\left[\\begin{array}{cc}\n",
    "                                             9 &  7  \\\\\n",
    "                                             7 &  9\n",
    "                                            \\end{array} \\right] $$\n",
    "                 \n",
    "$$ \\mathbf{M} = \\frac{1}{2} \\left[\\begin{array}{cc}\n",
    "                                   m &   0   \\\\\n",
    "                                   0  &  m\n",
    "                                  \\end{array} \\right] $$\n",
    "\n",
    "Portanto, a matriz dinâmica resulta:\n",
    "\n",
    "$$ \\mathbf{D} =  \\mathbf{K}^{-1} \\mathbf{M} = \\frac{mL^3}{1536EI} \\left[\\begin{array}{cc}\n",
    "                                                                         9 &  7  \\\\\n",
    "                                                                         7 &  9\n",
    "                                                                        \\end{array} \\right] $$\n",
    "\n",
    "O problema de autovalores e autovetores é resolvido como:\n",
    "\n",
    "$$ \\mathbf{D} \\vec{\\varphi}_k = \\lambda^2 \\vec{\\varphi}_k$$\n"
   ]
  },
  {
   "cell_type": "code",
   "execution_count": 3,
   "metadata": {},
   "outputs": [
    {
     "name": "stdout",
     "output_type": "stream",
     "text": [
      "\u001b[1mMatriz dinâmica (x1000)\u001b[0m\n",
      "[[20.34505 15.82393]\n",
      " [15.82393 20.34505]] \n",
      "\n",
      "\u001b[1mMatriz de formas modais\u001b[0m\n",
      "[[ 0.03162 -0.03162]\n",
      " [ 0.03162  0.03162]] \n",
      "\n",
      "Frequência no primeiro modo:  0.837 Hz\n",
      "Frequência no segundo modo:   2.367 Hz\n",
      "\n"
     ]
    }
   ],
   "source": [
    "L  =  5.\n",
    "m  =  1000.\n",
    "mu =  m/L\n",
    "EI =  36000.\n",
    "\n",
    "M  =           np.array([[m, 0], [0, m]])/2\n",
    "D  =  m*(L**3)*np.array([[9, 7], [7, 9]])/(1536*EI)\n",
    "\n",
    "fk, wk, Phi = vibration_modes(D, M)\n",
    "\n",
    "np.set_printoptions(formatter={'float': '{:8.5f}'.format})\n",
    "print('\\033[1mMatriz dinâmica (x1000)\\033[0m')\n",
    "print(1000*D,'\\n')\n",
    "\n",
    "np.set_printoptions(formatter={'float': '{:8.5f}'.format})\n",
    "print('\\033[1mMatriz de formas modais\\033[0m')\n",
    "print(Phi,'\\n')\n",
    "\n",
    "print('Frequência no primeiro modo: {0:6.3f} Hz'.format(fk[0])) \n",
    "print('Frequência no segundo modo:  {0:6.3f} Hz\\n'.format(fk[1])) \n"
   ]
  },
  {
   "cell_type": "markdown",
   "metadata": {},
   "source": [
    "## Questão 2\n",
    "\n",
    "Para a viga acima, o apoio da direita é sujeito a uma aceleração vertical, $a(t)$, que tem espectro de potência, $S_A(f)$, dado abaixo. Calcule a amplitude r.m.s. do deslocamento vertical nas duas massas. Observe que a força sísmica em cada massa é diferente, pois o apoio da esquerda não se move. (_sistema discreto, vibração estacionária_)\n",
    "\n",
    "<img src=\"resources/tests/PEC00025A_251_P2_spectrum.png\" alt=\"acceleration spectrum\" width=\"400px\"/>\n",
    "\n",
    "### Dados:\n",
    "\n",
    "* $f_0 = 1.5 {\\rm Hz}$\n",
    "* $S_0 = 0.8 {\\rm (m/s^2)^2/Hz}$\n",
    "\n",
    "### Solução\n",
    "\n",
    "O valor r.m.s. da aceleração é a integral do espectro, portanto:\n",
    "\n",
    "$$\\sigma^2_A = \\frac{S_0 \\cdot 2f_0}{2} = S_0 f_0 = 0.8 \\cdot 1.25 = 1 {\\rm (m/s^2)^2} $$\n",
    "\n",
    "Como a carga é definida no domínio da frequência, deve-se aplicar a equação:\n",
    "\n",
    "$$ S_U(\\omega) = \\lvert H(\\omega) \\rvert^2 S_F(\\omega) $$\n",
    "\n",
    "onde:\n",
    "\n",
    "$$ \\lvert H(\\omega) \\rvert^2 = \\frac{1}{\\omega_{\\rm n}^4} \\; \\left[ \\frac{1}{(1 - \\beta^2)^2 + (2\\zeta\\beta)^2} \\right]$$\n",
    "\n",
    "onde $\\beta = \\omega/\\omega_{\\rm n} = f/f_{\\rm n}$.\n",
    "\n",
    "O espectro da carga, $S_F(w)$, representa a força já divida pela massa do sistema. \n",
    "Como na questão anterior se adotou uma normalização pela matriz de massa, as forças modais já estarão em unidade de aceleração.\n",
    "\n",
    "Considerando que a fração da aceleração imposta a cada meia-massa é inversamente\n",
    "proporcional à distância do apoio que sofre a aceleração, resultam as seguintes forças modais:\n",
    "\n",
    "$$ F_1(t) = \\Phi_{11} \\cdot \\frac{m}{2} \\cdot \\frac{1}{4} a(t) + \n",
    "            \\Phi_{21} \\cdot \\frac{m}{2} \\cdot \\frac{3}{4} a(t) $$\n",
    "\n",
    "$$ F_2(t) = \\Phi_{12} \\cdot \\frac{m}{2} \\cdot \\frac{1}{4} a(t) + \n",
    "            \\Phi_{22} \\cdot \\frac{m}{2} \\cdot \\frac{3}{4} a(t) $$\n",
    "\n",
    "Transformando as forças modais para o domínio da frequência (coeficientes da aceleração são elevados ao quadrado):\n",
    "\n",
    "$$ S_{F_1}(f) = \\frac{m^2}{64} \\left(  \\Phi_{11}^2 + 9\\Phi_{21}^2 \\right) S_A(f) $$\n",
    "\n",
    "$$ S_{F_2}(f) = \\frac{m^2}{64} \\left(  \\Phi_{12}^2 + 9\\Phi_{22}^2 \\right) S_A(f) $$\n",
    "\n",
    "Observa-se que as forças modais diferem apenas pela expressão entre parênteses.\n",
    "\n",
    "O cálculo dos deslocamentos modais requer, portanto, a integração de $\\lvert H(\\omega) \\rvert^2 S_A(\\omega)$\n",
    "(que deverá ser multiplicado pelos devidos coeficientes para compor as forças modais acima).\n",
    "Essa integral pode ser resolvida numericamente na calculadora, chegando-se ao seguinte resultado:\n",
    "\n",
    "$$ S_0 \\int_0^{2f_0} {\\lvert H(f) \\rvert^2 \\left( 1 - \\frac{f}{2 f_0} \\right)} \\; df = \\frac{S_0 c_k}{\\omega_{\\rm k}^4} $$\n",
    "\n",
    "onde $c_k$ são constantes adimensionais calculadas conforme o script abaixo.\n",
    "Observe que a integral acima depende da frequência do modo de vibração, e portanto é diferente para cada um dos dois modos.\n"
   ]
  },
  {
   "cell_type": "code",
   "execution_count": 4,
   "metadata": {},
   "outputs": [
    {
     "name": "stdout",
     "output_type": "stream",
     "text": [
      "Constante integrada para o primeiro modo, c_1 = 43.87 (adim)\n",
      "Constante integrada para o segundo modo,  c_2 = 12.01 (adim)\n",
      "\n"
     ]
    }
   ],
   "source": [
    "zt = 0.01\n",
    "f0 = 1.25\n",
    "f  = np.linspace(0, 2*f0, 1024)\n",
    "df = f[1]\n",
    "\n",
    "b1 = f/fk[0];  H1 = 1/((1 - b1**2)**2 + (2*zt*b1)**2)\n",
    "b2 = f/fk[1];  H2 = 1/((1 - b2**2)**2 + (2*zt*b2)**2)\n",
    "\n",
    "c1 = np.trapz(H1*(1 - f/2/f0), dx=df)\n",
    "c2 = np.trapz(H2*(1 - f/2/f0), dx=df)\n",
    "\n",
    "print('Constante integrada para o primeiro modo, c_1 = {0:5.2f} (adim)'.format(c1))\n",
    "print('Constante integrada para o segundo modo,  c_2 = {0:5.2f} (adim)\\n'.format(c2))\n"
   ]
  },
  {
   "cell_type": "markdown",
   "metadata": {},
   "source": [
    "Com essas definições, a variância (integral do espectro) dos deslocamentos modais pode ser calculado como:\n",
    "\n",
    "$$ \\sigma_{u_1}^2 = S_0 c_1 \\left( \\frac{m}{8\\omega_1^2} \\right)^2 \\left( \\Phi_{11}^2 + 9\\Phi_{21}^2 \\right) $$\n",
    "\n",
    "$$ \\sigma_{u_2}^2 = S_0 c_2 \\left( \\frac{m}{8\\omega_2^2} \\right)^2 \\left( \\Phi_{12}^2 + 9\\Phi_{22}^2 \\right) $$\n"
   ]
  },
  {
   "cell_type": "code",
   "execution_count": 5,
   "metadata": {},
   "outputs": [
    {
     "name": "stdout",
     "output_type": "stream",
     "text": [
      "Valor r.m.s. da resposta no primeiro modo, σ_u1 =   5.36m\n",
      "Valor r.m.s. da resposta no segundo modo,  σ_u2 =   0.35m\n",
      "\n"
     ]
    }
   ],
   "source": [
    "S0  = 0.8\n",
    "\n",
    "sU1 = np.sqrt( 4*S0*c1 * ((m/8/(wk[0]**2))**2) * (Phi[0,0]**2 + 9*Phi[1,0]**2) )\n",
    "sU2 = np.sqrt( 4*S0*c2 * ((m/8/(wk[1]**2))**2) * (Phi[0,1]**2 + 9*Phi[1,1]**2) )\n",
    "\n",
    "print('Valor r.m.s. da resposta no primeiro modo, σ_u1 = {0:6.2f}m'.format(sU1))\n",
    "print('Valor r.m.s. da resposta no segundo modo,  σ_u2 = {0:6.2f}m\\n'.format(sU2))\n"
   ]
  },
  {
   "cell_type": "markdown",
   "metadata": {},
   "source": [
    "Finalmente, o cálculo do valor r.m.s. dos deslocamentos nodais requer a multiplicação pelas formas modais. \n",
    "Como não há informação de fase, vamos utilizar uma combinação quadrática da resposta nos dois modos.\n",
    "Assim, para a massa da esquerda (mais distante do apoio acelerado) tem-se:\n",
    "\n",
    "$$ \\sigma_{u_{(1/4)}} = \\sqrt{(\\Phi_{11} \\sigma_{u_1})^2 + (\\Phi_{21} \\sigma_{u_2})^2} $$\n",
    "\n",
    "Enquanto para a massa da direita (mais próxima ao apoio acelerado) tem-se:\n",
    "\n",
    "$$ \\sigma_{u_{(3/4)}} = \\sqrt{(\\Phi_{21} \\sigma_{u_1})^2 + (\\Phi_{22} \\sigma_{u_2})^2} $$\n"
   ]
  },
  {
   "cell_type": "code",
   "execution_count": 6,
   "metadata": {},
   "outputs": [
    {
     "name": "stdout",
     "output_type": "stream",
     "text": [
      "Valor r.m.s. do deslocamento da massa da esquerda, σ_left  = 0.1698 m\n",
      "Valor r.m.s. do deslocamento da massa da direita,  σ_right = 0.1698 m\n",
      "\n"
     ]
    }
   ],
   "source": [
    "s_left  = np.sqrt((Phi[0,0]*sU1)**2 + (Phi[1,0]*sU2)**2)\n",
    "s_right = np.sqrt((Phi[1,0]*sU1)**2 + (Phi[1,1]*sU2)**2)\n",
    "\n",
    "print('Valor r.m.s. do deslocamento da massa da esquerda, σ_left  = {0:6.4f} m'.format(s_left))\n",
    "print('Valor r.m.s. do deslocamento da massa da direita,  σ_right = {0:6.4f} m\\n'.format(s_right))\n"
   ]
  },
  {
   "cell_type": "markdown",
   "metadata": {},
   "source": [
    "Ou seja, como a participação do primeiro modo é mais importante, e como a combinação de modos é quadrática (sinal irrelevante)\n",
    "chega-se ao mesmo resultado em deslocamento para as duas massas.\n"
   ]
  },
  {
   "cell_type": "markdown",
   "metadata": {},
   "source": [
    "## Questão 3\n",
    "\n",
    "Estime a frequência fundamental da mesma viga, mas agora considerando que a massa não é mais concentrada, mas sim distribuída ($\\mu = m/L$). Proponha uma função (polinomial ou trigonométrica) que aproxime a forma modal desejada e calcule a frequência correspondente pelo quociente de Rayleigh. (_sistema contínuo, análise modal_)\n"
   ]
  },
  {
   "cell_type": "markdown",
   "metadata": {},
   "source": [
    "### Solução:\n",
    "\n",
    "Vamos propor duas soluções para a forma modal do primeiro modo de vibração livre: uma parábola e uma meia senóide.\n",
    "\n",
    "$$ \\varphi_A(x) = \\sin (\\pi x/L) $$\n",
    "\n",
    "$$ \\varphi_B(x) = \\frac{4}{L^2} \\left( Lx - x^2 \\right) $$\n",
    "\n",
    "As duas formas modais acima estão com escala ajustada para terem valor unitário no centro do vão, $\\varphi(L/2) = 1$.\n",
    "\n",
    "Para o cálculo da energia potencial elástica, precisamos derivar duas vezes as formas modais para obtermos a curvatura:\n",
    "\n",
    "$$ \\left[\\varphi^{\\prime\\prime}_A(x)\\right]^2 = (\\pi/L)^4\\sin^2 (\\pi x/L) $$\n",
    "\n",
    "$$ \\left[\\varphi^{\\prime\\prime}_B(x)\\right]^2 = 64/L^4 $$\n",
    "\n"
   ]
  },
  {
   "cell_type": "code",
   "execution_count": 7,
   "metadata": {},
   "outputs": [
    {
     "data": {
      "image/png": "[encoded data removed]",
      "text/plain": [
       "<Figure size 600x200 with 1 Axes>"
      ]
     },
     "metadata": {},
     "output_type": "display_data"
    }
   ],
   "source": [
    "x = np.linspace(0, L, 128)\n",
    "\n",
    "phi_A = np.sin(np.pi*x/L)\n",
    "phi_B = 4*(L*x - x*x)/L/L\n",
    "\n",
    "plt.figure(1, figsize=(6,2), clear=True)\n",
    "plt.plot(x, phi_A, 'b', x, phi_B, 'b:')\n",
    "plt.axis([0, L, -1, 2])\n",
    "plt.legend(('phi_A','phi_B'))\n",
    "plt.grid(True)\n"
   ]
  },
  {
   "cell_type": "markdown",
   "metadata": {},
   "source": [
    "Logo a energia cinética de referência é:\n",
    "\n",
    "$$ 2T_{{\\rm ref},A} = \\int_0^L {\\mu \\, \\varphi_A^2(\\xi) \\; dx} = \\frac{\\mu L}{2}$$\n",
    "\n",
    "$$ 2T_{{\\rm ref},B} = \\int_0^L {\\mu \\, \\varphi_B^2(\\xi) \\; dx} = \\frac{2\\mu L}{3}$$\n",
    "\n",
    "e a energia potencial elástica é:\n",
    "\n",
    "$$ 2V_A = \\int_0^L{EI \\,\\left[ \\varphi_A^{\\prime \\prime}(\\xi)\\right] ^2 \\; dx} = \\frac{\\pi^4 EI}{2L^3} $$\n",
    "\n",
    "$$ 2V_B = \\int_0^L{EI \\,\\left[ \\varphi_B^{\\prime \\prime}(\\xi)\\right] ^2 \\; dx} = \\frac{64 EI}{L^3} $$\n",
    "\n",
    "Portanto, pelo quociente de Rayleigh temos:\n",
    "\n",
    "$$ \\omega^2_{{\\rm n},A} = \\frac{V_A} {T_{{\\rm ref},A}} \n",
    "                         = \\left( \\frac{\\pi} {L} \\right)^4 \\frac{EI}{\\mu} $$\n",
    "\n",
    "$$ \\omega^2_{{\\rm n},B} = \\frac{V_B}{T_{{\\rm ref},B}} \n",
    "                        \\approx \\left( \\frac{ 3.1302}{L} \\right)^4 \\frac{EI}{\\mu} $$\n",
    "\n",
    "Observa-se que os dois resultados são bem próximos, sendo que o primeiro é exato pois a forma modal\n",
    "senoidal é a correta.\n"
   ]
  },
  {
   "cell_type": "code",
   "execution_count": 8,
   "metadata": {},
   "outputs": [
    {
     "name": "stdout",
     "output_type": "stream",
     "text": [
      "Frequência no primeiro modo (senóide):   0.843 Hz\n",
      "Frequência no primeiro modo (parábola):  0.837 Hz\n",
      "\n"
     ]
    }
   ],
   "source": [
    "f1A = ((np.pi /L)**2) * np.sqrt(EI/mu) / (2*np.pi)\n",
    "f1B = ((3.1302/L)**2) * np.sqrt(EI/mu) / (2*np.pi)\n",
    "\n",
    "print('Frequência no primeiro modo (senóide):  {0:6.3f} Hz'.format(f1A)) \n",
    "print('Frequência no primeiro modo (parábola): {0:6.3f} Hz\\n'.format(f1B)) \n"
   ]
  },
  {
   "cell_type": "markdown",
   "metadata": {},
   "source": [
    "Verifica-se, portanto, que ambas as formas modais fornecem resultados próximos, sendo que a forma modal $\\varphi_A(x)$ (exata)\n",
    "conduz à frequência correta. Estes valores também estão próximos ao resultado obtido na questão (1), com a massa da\n",
    "viga discretizada em duas massas concentradas.\n"
   ]
  },
  {
   "cell_type": "markdown",
   "metadata": {},
   "source": [
    "## Questão 4\n",
    "\n",
    "A viga do problema anterior é subitamente submetida ao seu peso próprio. Ou seja, o seu peso próprio é aplicado como uma função passo unitário no instante $t = 0$s. Estime o máximo deslocamento vertical que ocorrerá no centro da viga. Utilize nos cálculos a mesma forma modal adotada na questão anterior. (sistema contínuo, carga transiente)\n"
   ]
  },
  {
   "cell_type": "markdown",
   "metadata": {},
   "source": [
    "### Solução\n",
    "\n",
    "A carga distribuída atuante na viga é dada por:\n",
    "\n",
    "$$ q(t) = \\mu g h(t) $$\n",
    "\n",
    "onde $g \\approx 9.81 {\\rm m/s^2}$ é a aceleração da gravidade e $h(t)$ é a função passo unitário com o passo dado em $t = 0$s.\n",
    "A força modal para o modo 1 é portanto:\n",
    "\n",
    "$$ F_1(t) = \\int_0^L {q(t) \\varphi_A(x) \\; dx} = \\mu g h(t) \\cdot \\int_0^L {\\sin (\\pi x/L) \\; dx} = \\frac{2 m g}{\\pi} \\cdot h(t)$$\n",
    "\n",
    "Como a forma modal $\\varphi_A(x)$ tem escala unitária, precisamos calcular a massa e a rigidez modais:\n",
    "\n",
    "$$ M_1 = \\int_0^L {\\mu \\varphi_A^2(x) \\; dx} = \\frac{m}{2} $$\n",
    "\n",
    "$$ K_1 = M_1 \\omega_1^2 = \\frac{m \\omega_1^2}{2}$$\n",
    "\n",
    "O deslocamento modal para este tipo de ação (carga passo unitário com duração infinita) é calculado como:\n",
    "\n",
    "$$ u_{1, {\\rm din}} = A \\cdot u_{1, {\\rm est}} = A \\cdot \\frac{F_1}{K_1} \n",
    "                    = A \\cdot \\frac{2 m g}{\\pi} \\cdot \\frac{2}{ m \\omega_1^2}\n",
    "                    = A \\cdot \\frac{  4 g}{\\pi \\omega_1^2} $$\n",
    "\n",
    "O fator dinâmico para esta forma de carga é $A = 2$. \n",
    "Como a forma modal tem amplitude unitária no centro do vão, o valor numérico do deslocamento máximo neste ponto\n",
    "é igual ao valor do deslocamento modal. Portanto:\n",
    "\n",
    "$$ u_{\\rm max} = \\varphi_1(L/2) \\cdot u_{1, {\\rm din}} = \\frac{8 g}{\\pi \\omega_1^2}$$\n"
   ]
  },
  {
   "cell_type": "code",
   "execution_count": 9,
   "metadata": {},
   "outputs": [
    {
     "name": "stdout",
     "output_type": "stream",
     "text": [
      "Máximo deslocamento no centro do vão: 0.9035 m\n",
      "\n"
     ]
    }
   ],
   "source": [
    "umax = 8*9.81/(np.pi*wk[0]**2)\n",
    "\n",
    "print('Máximo deslocamento no centro do vão: {0:6.4f} m\\n'.format(umax)) \n"
   ]
  },
  {
   "cell_type": "code",
   "execution_count": null,
   "metadata": {},
   "outputs": [],
   "source": []
  }
 ],
 "metadata": {
  "kernelspec": {
   "display_name": "Python 3 (ipykernel)",
   "language": "python",
   "name": "python3"
  },
  "language_info": {
   "codemirror_mode": {
    "name": "ipython",
    "version": 3
   },
   "file_extension": ".py",
   "mimetype": "text/x-python",
   "name": "python",
   "nbconvert_exporter": "python",
   "pygments_lexer": "ipython3",
   "version": "3.12.7"
  }
 },
 "nbformat": 4,
 "nbformat_minor": 4
}
