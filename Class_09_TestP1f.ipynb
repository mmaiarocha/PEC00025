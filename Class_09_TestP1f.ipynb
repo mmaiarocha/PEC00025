{
 "cells": [
  {
   "cell_type": "markdown",
   "metadata": {},
   "source": [
    "### Universidade Federal do Rio Grande do Sul (UFRGS)   \n",
    "Programa de Pós-Graduação em Engenharia Civil (PPGEC)   \n",
    "\n",
    "# PEC00025: Introduction to Vibration Theory\n",
    "\n",
    "\n",
    "## Test P1 (2025/1): time and frequency domain analysis of sdof systems\n",
    "\n",
    "---\n"
   ]
  },
  {
   "cell_type": "code",
   "execution_count": 1,
   "metadata": {},
   "outputs": [],
   "source": [
    "# Importing Python modules required for this notebook\n",
    "# (this cell must be executed with \"shift+enter\" before any other Python cell)\n",
    "\n",
    "import numpy as np\n",
    "import matplotlib.pyplot as plt\n",
    "\n",
    "from MRPy import *\n"
   ]
  },
  {
   "cell_type": "markdown",
   "metadata": {},
   "source": [
    "## Descrição do problema\n",
    "\n",
    "O pórtico apresentado na figura tem duas colunas flexíveis com massa desprezável\n",
    "e rigidez horizontal $k = 12EI/L^3$ cada. \n",
    "A viga tem rigidez infinita e massa $M = 1000$kg. \n",
    "A altura das colunas é $L = 3$m e sua rigidez à flexão, $EI$, é tal que a \n",
    "frequência natural de vibração livre do pórtico resulta ser $f_{\\rm n} = 10$Hz. \n",
    "Sobre a viga está instalado um motor que, por falta de manutenção, resultou desbalanceado. \n",
    "A massa do motor já está incluída na massa da viga, $M$. \n",
    "O desbalanceamento do motor pode ser descrito como uma massa excêntrica $m = 50$kg, \n",
    "girando com frequência $f_0 = 480$ r.p.m (rotações por minuto) e excentricidade $r = 5$mm. \n",
    "A componente vertical da força centrípeta não é de interesse, \n",
    "sendo que o pórtico é dinamicamente carregado apenas na horizontal. \n",
    "O amortecimento viscoso equivalente para o pórtico é $\\zeta = 1$%. \n",
    "\n",
    "<img src=\"resources/tests/PEC00025A_251_P1.png\" alt=\"PEC00025A_251_P1\" width=\"540px\"/>\n",
    "\n",
    "## Questão (1):\n",
    "\n",
    "Calcule as amplitudes das respostas em deslocamento, $u(t)$, velocidade, $v(t)$, \n",
    "e aceleração, $a(t)$, com a excitação considerada estacionária. \n",
    "Apresente a força estática equivalente para fins de verificação do \n",
    "dimensionamento da coluna. (_vibração forçada, domínio da frequência_)\n",
    "\n",
    "### _Resolução_\n",
    "\n",
    "Vamos inicialmente criar as variáveis com os parâmetros dados e calcular as\n",
    "demais propriedades necessárias.\n"
   ]
  },
  {
   "cell_type": "code",
   "execution_count": 2,
   "metadata": {},
   "outputs": [
    {
     "name": "stdout",
     "output_type": "stream",
     "text": [
      "Rigidez das duas colunas .......  K =  3948 kN/m\n",
      "Rigidez à flexão equivalente ... EI =  8883 kNm2\n",
      "Amplitude da excitação ......... F0 =   632 N   \n",
      "Frequência da excitação ........ f0 =   8.0 Hz\n",
      "\n"
     ]
    }
   ],
   "source": [
    "L  =  3.                # altura da coluna (m)\n",
    "M  =  1000.             # massa da viga + motor (kg)\n",
    "zt =  0.01              # amortecimento razão do crítico\n",
    "fn =  10.               # frequência fundamental do pórtico (Hz)\n",
    "wn =  2*np.pi*fn        # frequência fundamental em rad/s\n",
    "Tn =  1/fn              # período de vibração (s)\n",
    "\n",
    "K  =  M*wn*wn           # rigidez das duas colunas somadas k+k (N/m)\n",
    "EI =  K*(L**3)/12.      # rigidez à flexão equivalente das duas colunas\n",
    "\n",
    "m  =  50.               # massa excêntrica\n",
    "r  =  0.005             # excentricidade (m)\n",
    "f0 =  480./60.          # frequência do motor (Hz)\n",
    "w0 =  2*np.pi*f0        # velocidade angular do motor (rad/s)\n",
    "\n",
    "F0 =  m*w0*w0*r         # amplitude da força centrípeta (N)\n",
    "\n",
    "print('Rigidez das duas colunas .......  K = {0:5.0f} kN/m'.format(K/1000))\n",
    "print('Rigidez à flexão equivalente ... EI = {0:5.0f} kNm2'.format(EI/1000))\n",
    "print('Amplitude da excitação ......... F0 = {0:5.0f} N   '.format(F0))\n",
    "print('Frequência da excitação ........ f0 = {0:5.1f} Hz\\n'.format(f0))\n"
   ]
  },
  {
   "cell_type": "markdown",
   "metadata": {},
   "source": [
    "Para se calcular a resposta dinâmica à uma carga harmônica estacionária, basta\n",
    "calcular a função de amplificação dinâmica na frequência da excitação: \n",
    "\n",
    "$$ A(\\beta, \\zeta) = \\sqrt{ \\frac{1}{(1 - \\beta^2)^2 + (2\\zeta\\beta)^2} }$$\n",
    "\n",
    "com $\\beta = w_0 \\, / \\, w_{\\rm n} = f_0 \\, / \\, f_{\\rm n}$. \n",
    "A função de amplificação multiplica a resposta estática à amplitude da carga:\n",
    "\n",
    "$$ u_{\\rm d} = A(\\beta, \\zeta) \\; u_{\\rm e} = A(\\beta, \\zeta) \\; \\frac{F_0}{k} $$\n"
   ]
  },
  {
   "cell_type": "code",
   "execution_count": 3,
   "metadata": {},
   "outputs": [
    {
     "name": "stdout",
     "output_type": "stream",
     "text": [
      "Fator de amplificação dinâmica .......  A =  2.78     \n",
      "Deslocamento estático (referência) ... ue =  0.16 mm  \n",
      "Amplitude do deslocamento dinâmico ... ud =  0.44 mm\n",
      "\n"
     ]
    }
   ],
   "source": [
    "Adyn = lambda f, zt: np.sqrt(1/( (1 - (f/fn)**2)**2 + (2*zt*(f/fn))**2 ))\n",
    "\n",
    "A    = Adyn(f0, zt)\n",
    "ue   = F0/K\n",
    "ud   = A*ue\n",
    "\n",
    "print('Fator de amplificação dinâmica .......  A = {0:5.2f}     '.format(A))\n",
    "print('Deslocamento estático (referência) ... ue = {0:5.2f} mm  '.format(1000*ue))\n",
    "print('Amplitude do deslocamento dinâmico ... ud = {0:5.2f} mm\\n'.format(1000*ud))\n"
   ]
  },
  {
   "cell_type": "markdown",
   "metadata": {},
   "source": [
    "Conhecida a amplitude da resposta dinâmica e considerado o teorema de preservação da frequência, \n",
    "podemos calcular as amplitudes de velocidade e deslocamento como:\n",
    "\n",
    "$$v_{\\rm max} = (2\\pi f_0)   \\; u_{\\rm d} $$\n",
    "$$a_{\\rm max} = (2\\pi f_0)^2 \\; u_{\\rm d} $$\n"
   ]
  },
  {
   "cell_type": "code",
   "execution_count": 4,
   "metadata": {},
   "outputs": [
    {
     "name": "stdout",
     "output_type": "stream",
     "text": [
      "Amplitude da velocidade ... v_max =  22.3 mm/s\n",
      "Amplitude da aceleração ... a_max = 114.4 mG\n",
      "\n"
     ]
    }
   ],
   "source": [
    "vmax   = (2*np.pi*f0) * ud\n",
    "amax   = (2*np.pi*f0) * vmax\n",
    "\n",
    "print('Amplitude da velocidade ... v_max = {0:5.1f} mm/s'.format(1000*vmax))\n",
    "print('Amplitude da aceleração ... a_max = {0:5.1f} mG\\n'.format(1000*amax/9.81))\n"
   ]
  },
  {
   "cell_type": "markdown",
   "metadata": {},
   "source": [
    "Pela figura abaixo, que se aplica a vibrações causadas por máquinas, pode-se ver que, embora\n",
    "a amplitude em deslocamento seja pequena, a amplitude em velocidade é bastante severa. \n",
    "Conforme o gráfico, esse nível de vibração pode inclusive danificar paredes de alvenaria.\n",
    "(_não esquecer de converter a velocidade em mm/s para in/s, dividindo-se por 25.4_)\n",
    "\n",
    "<img src=\"resources/tests/figRausch.jpg\" alt=\"Limite de velocidade para máquinas\" width=\"480px\"/>\n"
   ]
  },
  {
   "cell_type": "markdown",
   "metadata": {},
   "source": [
    "\n",
    "\n"
   ]
  },
  {
   "cell_type": "markdown",
   "metadata": {},
   "source": [
    "## Questão (2):\n",
    "\n",
    "Apresente a resposta em deslocamento no tempo, $u(t)$, que ocorre após a parada suave do motor. \n",
    "Quanto tempo leva até a amplitude do deslocamento cair à metade do valor inicial? \n",
    "(_vibração livre, domínio do tempo_)\n",
    "\n",
    "### _Resolução_\n",
    "\n",
    "Como não é especificado o instante em que o motor é desligado, vamos admitir que a partir\n",
    "do desligamento as condições iniciais são $u_0 = u_d$ e $v_0 = 0$.\n",
    "Outras combinações de $u_0$ e $v_0$ são possíveis, mas devem respeitar a solução para \n",
    "vibração livre amortecida:\n",
    "\n",
    "$$ u(t) = \\exp{(- \\zeta \\omega_{\\rm n} t)}\n",
    "   \\left[ u_0 \\cos \\omega_{\\rm D}t + \\left( \\frac{v_0 + \\zeta \\omega_{\\rm n} u_0}\n",
    "   {\\omega_{\\rm D}} \\right) \\sin \\omega_{\\rm D}t  \\right] $$\n",
    "\n",
    "Invertendo-se a fórmula do envelope de amplitude amortecida pode-se isolar o intervalo de tempo, \n",
    "$\\Delta t$, necessário para que a amplitude caia a um dado nível (_vide fórmula do decremento logarítmico_).\n",
    "\n",
    "$$ \\frac{u(t + \\Delta t)}{u(t)}  = \\exp{(-\\zeta \\omega_{\\rm n} \\Delta t)} $$\n",
    "\n",
    "Para cair à metade da amplitude inicial faz-se:\n",
    " \n",
    "$$ \\Delta t  = \\frac{1}{-\\zeta \\omega_{\\rm n}} \\ln \\left( \\frac{u_{\\rm d} /2}{u_{\\rm d}} \\right)$$\n"
   ]
  },
  {
   "cell_type": "code",
   "execution_count": 5,
   "metadata": {},
   "outputs": [
    {
     "name": "stdout",
     "output_type": "stream",
     "text": [
      "Tempo para a amplitude decair à metade ... Δt =  1.10 s\n",
      "\n"
     ]
    }
   ],
   "source": [
    "Δt =  np.log(1/2) / (-zt*wn)\n",
    "\n",
    "print('Tempo para a amplitude decair à metade ... Δt = {0:5.2f} s\\n'.format(Δt))\n"
   ]
  },
  {
   "cell_type": "markdown",
   "metadata": {},
   "source": [
    "Abaixo é feito o gráfico do deslocamento em vibração livre a partir das condições iniciais.\n",
    "O gráfico confirma visualmente o resultado obtido.\n"
   ]
  },
  {
   "cell_type": "code",
   "execution_count": 6,
   "metadata": {},
   "outputs": [
    {
     "data": {
      "image/png": "[encoded data removed]",
      "text/plain": [
       "<Figure size 800x400 with 1 Axes>"
      ]
     },
     "metadata": {},
     "output_type": "display_data"
    }
   ],
   "source": [
    "t  = np.linspace(0, 4, 1024)\n",
    "um = ud*np.exp(-zt*wn*t)\n",
    "u  = um*np.cos(w0*t)\n",
    "\n",
    "plt.figure(1, figsize=[8,4], clear=True)\n",
    "\n",
    "plt.plot(t, u,  'b', lw=0.4)\n",
    "plt.plot(t, um, 'r', lw=0.4)\n",
    "\n",
    "plt.plot([0, 4],[ud,   ud  ],'r' , lw=1)\n",
    "plt.plot([0, 4],[ud/2, ud/2],'r:', lw=1)\n",
    "plt.plot( Δt,    ud/2,       'ro'      )\n",
    "\n",
    "plt.xlabel('Time (s)')\n",
    "plt.ylabel('Displacement (m)')\n",
    "plt.axis([0, 4, -0.0005, 0.0005])\n",
    "plt.grid(True)\n"
   ]
  },
  {
   "cell_type": "markdown",
   "metadata": {},
   "source": [
    "## Questão (3):\n",
    "\n",
    "Considere agora que o motor é instantaneamente travado no instante em que $\\omega_0 t = \\pi/2$ rad. \n",
    "Qual o valor do impulso devido ao travamento do motor? \n",
    "Qual a resposta em deslocamento no tempo, $u(t)$? \n",
    "_Dica: considere a conservação da quantidade de movimento, sendo que \n",
    "a componente horizontal da velocidade da massa excêntrica é $v_x = −\\omega_0 r \\sin(\\omega_0 t)$\n",
    "e a quantidade de movimento da viga também deve ser considerada. (resposta impulsiva, domínio do tempo)_ \n",
    "\n",
    "### _Resolução_\n",
    "\n",
    "No momento em que a massa excêntrica passa pelo ponto mais alto ($\\omega_0 t = \\pi/2$) \n",
    "a componente horizontal da velocidade é:\n",
    "\n",
    "$$ v_x = \\omega_0 r $$\n",
    "\n",
    "Vamos admitir que a força centrípeta e o deslocamento do pórtico estejam \n",
    "aproximadamente em fase, ou seja, o movimento do pórtico acompanha aproximadamente a \n",
    "projeção vertical da massa excêntrica. \n",
    "Assim, quando $\\omega_0 t = \\pi/2$ todas as massas estão passando pela posição $u(t) = 0$,\n",
    "indo da direita para a esquerda, e a quantidade total de movimento é máxima:\n",
    "\n",
    "$$ I_{\\rm max} \\approx (M + m) v_{\\rm max} + m v_x$$\n",
    "\n",
    "onde $v_{\\rm max}$ já foi calculado na questão (1).\n",
    "\n",
    "Quando a massa excêntrica trava é aplicada uma força impulsiva na viga, da esquerda para a direita.\n",
    "O impulso correspondente à essa força corresponde à variação na quantidade total de movimento:\n",
    "\n",
    "$$ I = m v_x $$\n",
    "\n",
    "Portanto, ocorre uma redução na velocidade do sistema, calculada como:\n",
    "\n",
    "$$ I_{\\rm max} + I =  (M + m) v_{\\rm new} $$\n",
    "\n",
    "onde $v_{\\rm new}$ é a velocidade residual do conjunto motor+viga após a travada.\n",
    "Após as devidas substituições e isolando-se a nova velocidade:\n",
    "\n",
    "$$ v_{\\rm new} = \\frac{M v_{\\rm max} - m (v_{\\rm max} - \\omega_0 r) }{ M + m }$$ \n",
    "\n",
    "Os parâmetros acima estão calculados no _script_ abaixo:\n"
   ]
  },
  {
   "cell_type": "code",
   "execution_count": 7,
   "metadata": {},
   "outputs": [
    {
     "name": "stdout",
     "output_type": "stream",
     "text": [
      "Para a massa excêntrica:\n",
      "\n",
      "Velocidade na hora da travada ............    vx = 0.251 m/s \n",
      "Variação na quantidade de movimento ......     I = 12.57 Ns\n",
      "\n",
      "Para o sistema completo:\n",
      "\n",
      "Velocidade máxima da viga ................ v_max = 0.022 m/s \n",
      "Quantidade de movimento máxima ........... I_max = 23.43 Ns\n",
      "Velocidade final após a travada .......... v_new = 0.032 m/s\n",
      "\n"
     ]
    }
   ],
   "source": [
    "Imax = (M + m)*vmax\n",
    "vx   =  w0*r\n",
    "I    =  m*vx\n",
    "vnew = (M*vmax - m*(vmax - vx))/(M + m)\n",
    "\n",
    "print('Para a massa excêntrica:\\n')      \n",
    "print('Velocidade na hora da travada ............    vx = {0:5.3f} m/s '.format(vx))\n",
    "print('Variação na quantidade de movimento ......     I = {0:5.2f} Ns\\n'.format(I))\n",
    "\n",
    "print('Para o sistema completo:\\n')\n",
    "print('Velocidade máxima da viga ................ v_max = {0:5.3f} m/s '.format(vmax))\n",
    "print('Quantidade de movimento máxima ........... I_max = {0:5.2f} Ns'.format(Imax))\n",
    "print('Velocidade final após a travada .......... v_new = {0:5.3f} m/s\\n'.format(vnew))\n"
   ]
  },
  {
   "cell_type": "markdown",
   "metadata": {},
   "source": [
    "A amplitude (em deslocamento) do movimento em vibração livre após a travada do motor será dada por:\n",
    "\n",
    "$$ u_0 = \\frac{v_{\\rm new}}{\\omega_{\\rm n}}$$\n"
   ]
  },
  {
   "cell_type": "code",
   "execution_count": 10,
   "metadata": {},
   "outputs": [
    {
     "name": "stdout",
     "output_type": "stream",
     "text": [
      "Amplitude em vibração livre .... u0 =  0.51 mm\n",
      "\n"
     ]
    }
   ],
   "source": [
    "u0  =  vnew/wn\n",
    "\n",
    "print('Amplitude em vibração livre .... u0 = {0:5.2f} mm\\n'.format(1000*u0))\n"
   ]
  },
  {
   "cell_type": "markdown",
   "metadata": {},
   "source": [
    "## Questão (4):\n",
    "\n",
    "Qual a máxima velocidade angular do motor que produz uma resposta em deslocamento \n",
    "com mesma amplitude que a resposta estática à carga $F_0$, mas com $\\omega_0 > \\omega_{\\rm n}$ \n",
    "(onde $\\omega_{\\rm n}$ é a frequência natural de vibração livre do pórtico)? \n",
    "Qual é essa amplitude?\n",
    "\n",
    "### _Resolução_\n",
    "\n",
    "A pergunta se refere aos dois valores de frequência que produzem uma amplificação dinâmica igual a $1$. \n",
    "Uma dessas frequências é zero. A outra se encontra após o pico de ressonância em $\\omega/\\omega_{\\rm n} = 1.$\n",
    "Ou seja, essas frequências são as duas raízes da equação:\n",
    "\n",
    "$$ A(\\beta, \\zeta) = \\sqrt{\\frac{1}{(1 - \\beta^2)^2 + (2\\zeta\\beta)^2}} = 1$$\n",
    "\n",
    "ou, simplesmente:\n",
    "\n",
    "$$ (1 - \\beta^2)^2 + (2\\zeta\\beta)^2 = 1$$\n",
    "\n",
    "A solução não nula dessa equação depende de $\\zeta$, mas é bem pouco sensível a este parâmetro.\n",
    "Resolvendo na calculadora (equação do 4 grau), tem-se o resultado aproximado de $\\beta \\approx 1.41$.\n",
    "Essa solução é graficamente demonstrada abaixo.\n"
   ]
  },
  {
   "cell_type": "code",
   "execution_count": null,
   "metadata": {},
   "outputs": [],
   "source": [
    "bti =  np.linspace(0, 3, 200)\n",
    "zti = [0.10, 0.05, 0.01]\n",
    "\n",
    "plt.figure(6, figsize=(6,4))\n",
    "\n",
    "for z in zti:\n",
    "    A  = np.sqrt(1/((1 - bti**2)**2 + (2*z*bti)**2))\n",
    "    f6 = plt.semilogy(bti, A)\n",
    "\n",
    "plt.semilogy([1.41, 1.41], [0.1, 100], 'r:', lw=1)\n",
    "plt.semilogy( 1.41,         1.0,       'ro'      )\n",
    "\n",
    "plt.legend(zti)\n",
    "plt.axis([0, 3, 0.1, 100])\n",
    "plt.ylabel('Dynamic Amplification (nondim)')\n",
    "plt.xlabel('Normalized frequency')\n",
    "plt.grid(True)\n"
   ]
  },
  {
   "cell_type": "markdown",
   "metadata": {},
   "source": [
    "Portanto, a máxima velocidade angular do motor que produz uma amplitude de resposta igual à resposta estática é:\n",
    "\n",
    "$$\\omega_{0 \\rm, max} \\approx 1.41 \\omega_{\\rm n} = 14.1{\\rm Hz}$$\n"
   ]
  },
  {
   "cell_type": "code",
   "execution_count": null,
   "metadata": {},
   "outputs": [],
   "source": []
  }
 ],
 "metadata": {
  "kernelspec": {
   "display_name": "Python 3 (ipykernel)",
   "language": "python",
   "name": "python3"
  },
  "language_info": {
   "codemirror_mode": {
    "name": "ipython",
    "version": 3
   },
   "file_extension": ".py",
   "mimetype": "text/x-python",
   "name": "python",
   "nbconvert_exporter": "python",
   "pygments_lexer": "ipython3",
   "version": "3.12.7"
  }
 },
 "nbformat": 4,
 "nbformat_minor": 4
}
