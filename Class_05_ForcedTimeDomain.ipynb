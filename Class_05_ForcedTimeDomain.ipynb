{
 "cells": [
  {
   "cell_type": "markdown",
   "metadata": {},
   "source": [
    "Universidade Federal do Rio Grande do Sul (UFRGS)   \n",
    "Programa de Pós-Graduação em Engenharia Civil (PPGEC)   \n",
    "\n",
    "# PEC00025: Introduction to Vibration Theory\n",
    "\n",
    "\n",
    "### Class 05 - Forced vibration in time domain\n",
    "\n",
    "[1.   Introduction](#section_1)  \n",
    "[2.   Impulse response](#section_2)  \n",
    "[3.   General response to forced vibration](#section_3)  \n",
    "[4.   Short transient loads](#section_4)  \n",
    "[4.1. Impulse response approximation](#section_41)  \n",
    "[4.2. Dynamic factor approach](#section_42)  \n",
    "[5.   Assignment](#section_5)  \n",
    "\n",
    "---\n",
    "_Prof. Marcelo M. Rocha, Dr.techn._ [(ORCID)](https://orcid.org/0000-0001-5640-1020)  \n",
    "_Porto Alegre, RS, Brazil_ \n"
   ]
  },
  {
   "cell_type": "code",
   "execution_count": 2,
   "metadata": {},
   "outputs": [],
   "source": [
    "# Importing Python modules required for this notebook\n",
    "# (this cell must be executed with \"shift+enter\" before any other Python cell)\n",
    "\n",
    "import numpy as np\n",
    "import matplotlib.pyplot as plt\n",
    "from   MRPy import MRPy\n"
   ]
  },
  {
   "cell_type": "markdown",
   "metadata": {},
   "source": [
    "## 1. Introduction <a name=\"section_1\"></a> \n",
    "\n",
    "So far we have calculated the system response in damped free vibration, \n",
    "which depends solely on the initial conditions with $F(t) = 0$. \n",
    "\n",
    "<img src=\"images/singleDOF.png\" alt=\"SDOF system\" width=\"240px\"/>\n",
    "\n",
    "We call _forced vibration_ the system response to any force function, $F(t)$, \n",
    "which is the solution of the equation:\n",
    "\n",
    "$$ m\\ddot{u} + c\\dot{u} + ku = F(t)$$\n",
    "\n",
    "In this class we shall present the closed-form solution for any given force function,\n",
    "starting with the very fundamental one: the _unit impulse function_.\n"
   ]
  },
  {
   "cell_type": "markdown",
   "metadata": {},
   "source": [
    "## 2. Impulse response <a name=\"section_2\"></a> \n",
    "\n",
    "We start by re-writing the equilibrium equation, which after division by the system mass is:\n",
    "\n",
    "$$ \\ddot{u} + 2\\eta \\dot{u} + \\omega_{\\rm n}^2 u = F(t)/m $$\n",
    "\n",
    "Now we take the force function as $F(t) = m\\delta(t)$ (the Dirac's delta function at time origin), \n",
    "then we apply Laplace transform on this equation disregarding the initial conditions \n",
    "($u_0 = 0$ and $v_0 = 0$). It gives:\n",
    "\n",
    "$$ \\mathscr{L}\\left\\{ \\ddot{u} + 2 \\eta \\dot{u} + \\omega_{\\rm n}^2 u \\right\\} = \n",
    "   \\mathscr{L}\\left\\{ \\delta(t) \\right\\} $$\n",
    "   \n",
    "$$  s^2 \\bar{u}(s) + 2 \\eta s \\bar{u}(s) + \\omega_{\\rm n}^2 \\bar{u}(s) = 1 $$\n",
    "\n",
    "what solving for $\\bar{u}(s)$ results in:\n",
    "\n",
    "$$ \\bar{u}(s) =  \n",
    "   \\left[\\frac{\\omega_{\\rm D}}{(s + \\eta)^2 + \\omega_{\\rm D}^2}\\right] \n",
    "   \\left(\\frac{1}{\\omega_{\\rm D}} \\right) $$\n",
    "\n",
    "where we have used the same definition we made for free damped vibration: \n",
    "$\\omega_{\\rm D}^2 = \\omega_{\\rm n}^2 - \\eta^2$.\n",
    "\n",
    "Recognizing the sine function transform and using the translation theorem gives\n",
    "a special response called _unit impulse response_, $g(t)$:\n",
    "\n",
    "$$ g(t) = \\frac{1}{\\omega_{\\rm D}} \\; e^{- \\zeta \\omega_{\\rm n} t} \n",
    "          \\sin \\omega_{\\rm D}t  $$\n",
    "\n",
    "This response corresponds to the free vibration response for $u_0 = 0$ and $v_0 = 1$ (m/s), \n",
    "which means that the unit impulse force $m\\delta(t)$ at time origin causes the same response\n",
    "as a unit initial velocity.\n",
    "\n",
    "From the practical viewpoint, the system response to an impulsive\n",
    "force allow us to know all the system mechanical properties by fitting the theoretical function\n",
    "$g(t)$ to the measured dynamic response.\n"
   ]
  },
  {
   "cell_type": "markdown",
   "metadata": {},
   "source": [
    "## 3. General response to forced vibration <a name=\"section_3\"></a> \n",
    "\n",
    "Now let us apply Laplace transform to the general equilibrium equation:\n",
    "\n",
    "$$ \\mathscr{L}\\left\\{ \\ddot{u} + 2 \\eta \\dot{u} + \\omega_{\\rm n}^2 u \\right\\} = \n",
    "   \\mathscr{L}\\left\\{ F(t)/m \\right\\} $$\n",
    "\n",
    "where we define $\\mathscr{L}\\left\\{ F(t)/m \\right\\} = \\bar{f}(s)$.\n",
    "Recalling that the Laplace transform of the unit impulse response, $g(t)$, is:\n",
    "\n",
    "$$ \\bar{g}(s) = \\frac{1}{(s + \\eta)^2 + \\omega_{\\rm D}^2}$$\n",
    "\n",
    "results in:\n",
    "\n",
    "$$ \\bar{u}(s) = \\bar{g}(s)\\bar{f}(s) +  \\bar{u}_0(s) $$\n",
    "\n",
    "where:\n",
    "\n",
    "$$ \\bar{u}_0(s) = \\bar{g}(s) \\left[ u_0 s + \\left( v_0 + 2 \\eta u_0 \\right) \\right] $$\n",
    "\n",
    "is the response to the initial conditions, $u_0$ and $v_0$, while the term\n",
    "$\\bar{g}(s)\\bar{f}(s)$ is the response to the force function, $F(t)/m$.\n",
    "\n",
    "With the _convolution theorem_, the inverse Laplace transform finally leads to:\n",
    "\n",
    "$$ u(t) = u_0(t) + \\frac{1}{m} \\int_0^t {g(t - \\tau) F(\\tau) \\, d\\tau}$$\n",
    "\n",
    "which is the general solution of the dynamic equilibrium equation for a sdof system. \n",
    "It implies that the response, $u(t)$, for any given force function, $F(t)/m$, \n",
    "can be obtained by calculating its convolution with the impulse response, $g(t)$,\n",
    "superposed to the response for initial conditions, $u_0(t)$.\n",
    "\n",
    "The numerical approach for directly solving the convolution integral is not recommended. \n",
    "In the next class we shall be presented to a more efficient numerical technique \n",
    "called _the Duhamel integral_.\n"
   ]
  },
  {
   "cell_type": "markdown",
   "metadata": {},
   "source": [
    "## 4. Short transient loads <a name=\"section_4\"></a> \n",
    "\n",
    "In this section we present a more practical approach to evaluate the system response to a\n",
    "force function with short duration. To illustrate these approaches, we make use of a numerical\n",
    "example, calculated with ``MRPy``. The numerical method will be explained in details next class. \n",
    "By now we are only interested in the results provided by the Python class.\n",
    "\n",
    "### 4.1. Impulse response approximation\n",
    "\n",
    "Let us start assuming a short transient load consisting in a constant force, \n",
    "$F_0$, applied at $t = 0$ and removed at $t = t_{\\rm d}$.\n"
   ]
  },
  {
   "cell_type": "code",
   "execution_count": 27,
   "metadata": {},
   "outputs": [
    {
     "name": "stdout",
     "output_type": "stream",
     "text": [
      "1024.0 256\n"
     ]
    },
    {
     "data": {
      "image/png": "[encoded data removed]",
      "text/plain": [
       "<Figure size 648x216 with 1 Axes>"
      ]
     },
     "metadata": {
      "needs_background": "light"
     },
     "output_type": "display_data"
    }
   ],
   "source": [
    "F0 = 4.00                       # constant force amplitude (N)\n",
    "td = 0.25                       # load duration (s)\n",
    "Td = 8.0                        # total integration time (s)\n",
    "N  = 8192                       # number of time step for Td discretization\n",
    "\n",
    "F  = MRPy.zeros(NX=1, N=N, Td=Td)    # creates a time series filled with zeroes\n",
    "\n",
    "i0 = int(td*F.fs)               # number of time steps to reach td\n",
    "F[0, 0:i0] = F0                 # fills constant value up to td\n",
    "\n",
    "print(F.fs, i0)\n",
    "\n",
    "F.plot_time(figsize=(9,3), axis_t=[0, Td, -5, 15]);\n"
   ]
  },
  {
   "cell_type": "markdown",
   "metadata": {},
   "source": [
    "Now we use ``MRPy`` to calculate the response of a system with $m = 1$kg, natural vibration frequency\n",
    "$f_{\\rm n} = 1$Hz, and damping ratio of critical $\\zeta = 1$%."
   ]
  },
  {
   "cell_type": "code",
   "execution_count": 29,
   "metadata": {},
   "outputs": [
    {
     "name": "stdout",
     "output_type": "stream",
     "text": [
      "39.47841760435743\n",
      "Maximum response amplitude:    141mm\n"
     ]
    },
    {
     "data": {
      "image/png": "[encoded data removed]",
      "text/plain": [
       "<Figure size 648x216 with 1 Axes>"
      ]
     },
     "metadata": {
      "needs_background": "light"
     },
     "output_type": "display_data"
    }
   ],
   "source": [
    "m  = 1.0            # system mass in kg\n",
    "fn = 1.0            # natural frequency in Hz\n",
    "wn = 2*np.pi*fn     # natural frequency in rad/s\n",
    "zt = 0.01           # damping ratio to critical (nondim)\n",
    "k  = wn*wn*m        # system stiffness (N/m)\n",
    "\n",
    "print(k)\n",
    "\n",
    "u  = F.sdof_Duhamel(fn, zt, U0=0., V0=0.)/m\n",
    "\n",
    "u.plot_time(fig=1, figsize=(9,3), axis_t=[0, Td, -0.5, 0.5]);\n",
    "\n",
    "print('Maximum response amplitude: {0:6.0f}mm'.format(1000*u.max()))\n"
   ]
  },
  {
   "cell_type": "markdown",
   "metadata": {},
   "source": [
    "We see that ``MRPy`` has calculated the peak response amplitude as 15.4mm.\n",
    "Now we will perform the same calculation by assuming that the applied force function \n",
    "can be approximated by an impulse function at time origin.\n",
    "\n",
    "The impulse function equivalent to the load defined above is given by:\n",
    "\n",
    "$$ F(t) = F_0 t_{\\rm d} \\; \\delta(t) = I \\delta(t) $$\n",
    "\n",
    "where $F_0 t_{\\rm d}$ is the total impulse (integral of the Dirac's delta), which\n",
    "is not unitary in the example. As previously stated, the equivalent initial \n",
    "velocity, $v_0$, is approximatelly:\n",
    "\n",
    "$$ v_0 = \\frac{I}{m} = \\frac{F_0 t_{\\rm d}}{m} = 1{\\rm m/s} $$\n",
    "\n",
    "where $I$ is the given impulse. The response amplitude to this initial condition is:\n",
    "\n",
    "$$ u_{\\rm max} \\approx \\frac{v_0}{\\omega_{\\rm D}} \\approx \\frac{v_0}{\\omega_{\\rm n}} \n",
    "               \\approx \\frac{1.0}{2 \\pi \\cdot 1.0} \\approx 159{\\rm mm} $$\n",
    "\n",
    "which is quite close to the numerical result (the discretization $N$ was intentionally\n",
    "chosen to give the required accuracy).\n"
   ]
  },
  {
   "cell_type": "markdown",
   "metadata": {},
   "source": [
    "### 4.2. Dynamic factor approach\n",
    "\n",
    "As a rule of thumb, the approximation of a short transient load as an impulse function\n",
    "at time origin provides a good approximation up to $t_{\\rm d} \\leq T_{\\rm n}/4$ (where\n",
    "$ T_{\\rm n}$ is the system natural period of vibration). \n",
    "For instance, by setting $t_{\\rm d} = 0.25$s in the previous example, the numerical\n",
    "result would be $u_{\\rm max} = 35.3$mm, while the impulse function approximation would give\n",
    "$u_{\\rm max} = 39.8$mm, overestimating the correct result (try it by yourself!).\n",
    "\n",
    "To overcome this approximation error, numerically computed results may be provided as \n",
    "design curves, as the one reproduced below (Clough & Penzien, 1995):\n",
    "\n",
    "<img src=\"images/dynamic_factors.jpg\" alt=\"Dynamic factors\" width=\"560px\"/>  <br>\n",
    "\n",
    "The curves provide a _dynamic amplification factor_, to be multiplied by the system \n",
    "static response to the force function maximum amplitude: \n",
    "\n",
    "$$ u_{\\rm max} = A \\frac{F_0}{k} = A \\frac{F_0}{\\omega_{\\rm n}^2 m} $$\n",
    "\n",
    "In the previous example, with $t_{\\rm d} = 0.25$s, the dynamic amplification taken\n",
    "from the respective curve (rectangular function shape) is $A \\approx 1.4$. \n",
    "Hence the peak response amplitude is:\n",
    "\n",
    "$$ u_{\\rm max} = 1.4 \\frac{4.0}{(2 \\pi \\cdot 1.0)^2 \\cdot 1.0} \\approx 142{\\rm mm}$$\n",
    "\n",
    "which is much closer to the correct solution.\n"
   ]
  },
  {
   "cell_type": "code",
   "execution_count": 30,
   "metadata": {},
   "outputs": [
    {
     "name": "stdout",
     "output_type": "stream",
     "text": [
      "0.10132118364233778 0.14184965709927289\n"
     ]
    }
   ],
   "source": [
    "k    = ((2*np.pi*fn)**2)*m\n",
    "uest =  F0/k\n",
    "\n",
    "A    =  1.4\n",
    "udyn =  A*uest\n",
    "\n",
    "print(uest, udyn)\n"
   ]
  },
  {
   "cell_type": "markdown",
   "metadata": {},
   "source": [
    "## 5. Assignments <a name=\"section_5\"></a> \n",
    "\n",
    "1. Utilizar o registro de vibração livre obtido no trabalho anterior.\n",
    "2. Uma vez identificados frequência e amortecimento, calcular:\n",
    "   (a) Máximo deslocamento para uma carga transiente de curta duração, através de          aproximação por resposta impulsiva.\n",
    "   (b) Mesmo cálculo feito por ``MRPy.sdof_Duhamel()``.\n",
    "3. Relatório com descrição do objeto, gráficos e resultados (nome do arquivo       T3_xxxxxxxx.ipynb).\n",
    "\n",
    "Prazo: 20 de maio de 2020.\n"
   ]
  },
  {
   "cell_type": "code",
   "execution_count": null,
   "metadata": {},
   "outputs": [],
   "source": []
  }
 ],
 "metadata": {
  "kernelspec": {
   "display_name": "Python 3 (ipykernel)",
   "language": "python",
   "name": "python3"
  },
  "language_info": {
   "codemirror_mode": {
    "name": "ipython",
    "version": 3
   },
   "file_extension": ".py",
   "mimetype": "text/x-python",
   "name": "python",
   "nbconvert_exporter": "python",
   "pygments_lexer": "ipython3",
   "version": "3.10.9"
  }
 },
 "nbformat": 4,
 "nbformat_minor": 2
}
